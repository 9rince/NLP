{
 "cells": [
  {
   "cell_type": "code",
   "execution_count": 1,
   "metadata": {},
   "outputs": [
    {
     "name": "stderr",
     "output_type": "stream",
     "text": [
      "c:\\users\\princ3\\anaconda3\\envs\\tfconda\\lib\\site-packages\\gensim\\utils.py:860: UserWarning: detected Windows; aliasing chunkize to chunkize_serial\n",
      "  warnings.warn(\"detected Windows; aliasing chunkize to chunkize_serial\")\n"
     ]
    }
   ],
   "source": [
    "import tensorflow as tf\n",
    "from gensim.models import Word2Vec\n",
    "import pandas as pd\n",
    "from textblob import TextBlob\n",
    "import numpy as np\n",
    "from tqdm import tqdm"
   ]
  },
  {
   "cell_type": "code",
   "execution_count": 2,
   "metadata": {},
   "outputs": [
    {
     "data": {
      "text/plain": [
       "16"
      ]
     },
     "execution_count": 2,
     "metadata": {},
     "output_type": "execute_result"
    }
   ],
   "source": [
    "contxt = pd.read_pickle('./current_input/squad_contxt_train.pkl')\n",
    "max(contxt['snt_len'])"
   ]
  },
  {
   "cell_type": "markdown",
   "metadata": {},
   "source": [
    "### Importing the word2vec models"
   ]
  },
  {
   "cell_type": "code",
   "execution_count": 85,
   "metadata": {},
   "outputs": [],
   "source": [
    "word_vec = Word2Vec.load('model.bin')    # word embedding\n",
    "# char_vec = Word2Vec.load('model_c.bin')  # charector embedding"
   ]
  },
  {
   "cell_type": "markdown",
   "metadata": {},
   "source": [
    "### Importing the dataset"
   ]
  },
  {
   "cell_type": "code",
   "execution_count": 3,
   "metadata": {},
   "outputs": [],
   "source": [
    "df_contxt = pd.read_pickle('./input/squad_contxt.pkl') # context\n",
    "df_qas = pd.read_pickle('./input/squad_qas.pkl')       # question and answers\n",
    "df_qas = df_qas[df_qas.is_impossible != True]"
   ]
  },
  {
   "cell_type": "code",
   "execution_count": 4,
   "metadata": {},
   "outputs": [
    {
     "data": {
      "text/html": [
       "<div>\n",
       "<style scoped>\n",
       "    .dataframe tbody tr th:only-of-type {\n",
       "        vertical-align: middle;\n",
       "    }\n",
       "\n",
       "    .dataframe tbody tr th {\n",
       "        vertical-align: top;\n",
       "    }\n",
       "\n",
       "    .dataframe thead th {\n",
       "        text-align: right;\n",
       "    }\n",
       "</style>\n",
       "<table border=\"1\" class=\"dataframe\">\n",
       "  <thead>\n",
       "    <tr style=\"text-align: right;\">\n",
       "      <th></th>\n",
       "      <th>title_no</th>\n",
       "      <th>context_no</th>\n",
       "      <th>q_no</th>\n",
       "      <th>q_id</th>\n",
       "      <th>Question</th>\n",
       "      <th>Answer_text</th>\n",
       "      <th>Answer_start</th>\n",
       "      <th>is_impossible</th>\n",
       "      <th>ans_snt</th>\n",
       "    </tr>\n",
       "  </thead>\n",
       "  <tbody>\n",
       "    <tr>\n",
       "      <th>1</th>\n",
       "      <td>1</td>\n",
       "      <td>1</td>\n",
       "      <td>1</td>\n",
       "      <td>56be85543aeaaa14008c9063</td>\n",
       "      <td>When did Beyonce start becoming popular?</td>\n",
       "      <td>in the late 1990s</td>\n",
       "      <td>269</td>\n",
       "      <td>False</td>\n",
       "      <td>NaN</td>\n",
       "    </tr>\n",
       "    <tr>\n",
       "      <th>2</th>\n",
       "      <td>1</td>\n",
       "      <td>1</td>\n",
       "      <td>2</td>\n",
       "      <td>56be85543aeaaa14008c9065</td>\n",
       "      <td>What areas did Beyonce compete in when she was...</td>\n",
       "      <td>singing and dancing</td>\n",
       "      <td>207</td>\n",
       "      <td>False</td>\n",
       "      <td>NaN</td>\n",
       "    </tr>\n",
       "    <tr>\n",
       "      <th>3</th>\n",
       "      <td>1</td>\n",
       "      <td>1</td>\n",
       "      <td>3</td>\n",
       "      <td>56be85543aeaaa14008c9066</td>\n",
       "      <td>When did Beyonce leave Destiny's Child and bec...</td>\n",
       "      <td>2003</td>\n",
       "      <td>526</td>\n",
       "      <td>False</td>\n",
       "      <td>NaN</td>\n",
       "    </tr>\n",
       "    <tr>\n",
       "      <th>4</th>\n",
       "      <td>1</td>\n",
       "      <td>1</td>\n",
       "      <td>4</td>\n",
       "      <td>56bf6b0f3aeaaa14008c9601</td>\n",
       "      <td>In what city and state did Beyonce  grow up?</td>\n",
       "      <td>Houston, Texas</td>\n",
       "      <td>166</td>\n",
       "      <td>False</td>\n",
       "      <td>NaN</td>\n",
       "    </tr>\n",
       "    <tr>\n",
       "      <th>5</th>\n",
       "      <td>1</td>\n",
       "      <td>1</td>\n",
       "      <td>5</td>\n",
       "      <td>56bf6b0f3aeaaa14008c9602</td>\n",
       "      <td>In which decade did Beyonce become famous?</td>\n",
       "      <td>late 1990s</td>\n",
       "      <td>276</td>\n",
       "      <td>False</td>\n",
       "      <td>NaN</td>\n",
       "    </tr>\n",
       "  </tbody>\n",
       "</table>\n",
       "</div>"
      ],
      "text/plain": [
       "  title_no context_no q_no                      q_id  \\\n",
       "1        1          1    1  56be85543aeaaa14008c9063   \n",
       "2        1          1    2  56be85543aeaaa14008c9065   \n",
       "3        1          1    3  56be85543aeaaa14008c9066   \n",
       "4        1          1    4  56bf6b0f3aeaaa14008c9601   \n",
       "5        1          1    5  56bf6b0f3aeaaa14008c9602   \n",
       "\n",
       "                                            Question          Answer_text  \\\n",
       "1           When did Beyonce start becoming popular?    in the late 1990s   \n",
       "2  What areas did Beyonce compete in when she was...  singing and dancing   \n",
       "3  When did Beyonce leave Destiny's Child and bec...                 2003   \n",
       "4      In what city and state did Beyonce  grow up?        Houston, Texas   \n",
       "5         In which decade did Beyonce become famous?           late 1990s   \n",
       "\n",
       "  Answer_start is_impossible  ans_snt  \n",
       "1          269         False      NaN  \n",
       "2          207         False      NaN  \n",
       "3          526         False      NaN  \n",
       "4          166         False      NaN  \n",
       "5          276         False      NaN  "
      ]
     },
     "execution_count": 4,
     "metadata": {},
     "output_type": "execute_result"
    }
   ],
   "source": [
    "df_qas['ans_snt'] = np.nan\n",
    "df_qas.head()"
   ]
  },
  {
   "cell_type": "code",
   "execution_count": 5,
   "metadata": {},
   "outputs": [],
   "source": [
    "# list(df_qas['q_no'])"
   ]
  },
  {
   "cell_type": "code",
   "execution_count": 98,
   "metadata": {
    "scrolled": true
   },
   "outputs": [
    {
     "name": "stdout",
     "output_type": "stream",
     "text": [
      "For example, an edict of the Hongwu Emperor in 1373 appointed the Tibetan leader Choskunskyabs as the General of the Ngari Military and Civil Wanhu Office, stating:\n",
      "the General of the Ngari Military and Civil Wanhu Office\n",
      "What was the Tibetan leader  Choskunskyabs  appointed as? \n"
     ]
    }
   ],
   "source": [
    "# for i in tqdm(df_qas['q_no']):\n",
    "i = 1534\n",
    "\n",
    "# len(para),c\n",
    "#     for j in TextBlob(para).sentences:\n",
    "#         print(len(j))\n",
    "            \n",
    "# df_qas.loc[df_qas['q_no'] == 1]['Question'][1]\n",
    "# df_qas[12000:]\n",
    "# ans,p_no\n",
    "# para"
   ]
  },
  {
   "cell_type": "code",
   "execution_count": null,
   "metadata": {},
   "outputs": [],
   "source": []
  },
  {
   "cell_type": "code",
   "execution_count": 18,
   "metadata": {
    "scrolled": true
   },
   "outputs": [
    {
     "name": "stdout",
     "output_type": "stream",
     "text": [
      "1062 3477\n"
     ]
    },
    {
     "name": "stderr",
     "output_type": "stream",
     "text": [
      "  0%|                                                                                         | 0/1062 [00:00<?, ?it/s]\n"
     ]
    },
    {
     "ename": "TypeError",
     "evalue": "object of type 'int' has no len()",
     "output_type": "error",
     "traceback": [
      "\u001b[1;31m---------------------------------------------------------------------------\u001b[0m",
      "\u001b[1;31mTypeError\u001b[0m                                 Traceback (most recent call last)",
      "\u001b[1;32m<ipython-input-18-207fb99e11c5>\u001b[0m in \u001b[0;36m<module>\u001b[1;34m\u001b[0m\n\u001b[0;32m     17\u001b[0m \u001b[1;31m#     for j in TextBlob(i).sentences:\u001b[0m\u001b[1;33m\u001b[0m\u001b[1;33m\u001b[0m\u001b[0m\n\u001b[0;32m     18\u001b[0m \u001b[1;31m#         k = len(j.words)\u001b[0m\u001b[1;33m\u001b[0m\u001b[1;33m\u001b[0m\u001b[0m\n\u001b[1;32m---> 19\u001b[1;33m     \u001b[0mw_len\u001b[0m \u001b[1;33m=\u001b[0m \u001b[0mlen\u001b[0m\u001b[1;33m(\u001b[0m\u001b[0mk\u001b[0m\u001b[1;33m)\u001b[0m\u001b[1;33m\u001b[0m\u001b[0m\n\u001b[0m\u001b[0;32m     20\u001b[0m     \u001b[0mp_word_length\u001b[0m\u001b[1;33m.\u001b[0m\u001b[0mappend\u001b[0m\u001b[1;33m(\u001b[0m\u001b[0mw_len\u001b[0m\u001b[1;33m)\u001b[0m\u001b[1;33m\u001b[0m\u001b[0m\n\u001b[0;32m     21\u001b[0m     \u001b[1;32mif\u001b[0m \u001b[0mw_len\u001b[0m \u001b[1;33m>\u001b[0m \u001b[0mmax_c_word_length\u001b[0m\u001b[1;33m:\u001b[0m\u001b[1;33m\u001b[0m\u001b[0m\n",
      "\u001b[1;31mTypeError\u001b[0m: object of type 'int' has no len()"
     ]
    }
   ],
   "source": [
    "print(len(df_contxt),len(df_qas))\n",
    "max_c_word_length = 0\n",
    "min_c_word_length = 1000\n",
    "max_c_snt_length = 0\n",
    "min_c_snt_length = 1000\n",
    "p_word_length = []\n",
    "p_snt_length = []\n",
    "ran = 1\n",
    "for i in tqdm(df_contxt['context']):\n",
    "    w_len = 0\n",
    "    l = TextBlob(i).words\n",
    "#     if l < min_c_snt_length:\n",
    "#         min_c_snt_length = l\n",
    "#     if l > max_c_snt_length:\n",
    "#         max_c_snt_length = l   \n",
    "#     p_snt_length.append(l)\n",
    "#     for j in TextBlob(i).sentences:\n",
    "#         k = len(j.words)\n",
    "    w_len = len(l)\n",
    "    p_word_length.append(w_len)\n",
    "    if w_len > max_c_word_length:\n",
    "        max_c_word_length = w_len\n",
    "    if w_len < min_c_word_length:\n",
    "        min_c_word_length = w_len\n",
    "#     print(w_len,df_contxt['word_len'][ran])\n",
    "    ran += 1\n",
    "#     print('.',end='')\n",
    "print(min_c_word_length,max_c_word_length)\n",
    "print(min_c_snt_length,max_c_snt_length)\n",
    "        "
   ]
  },
  {
   "cell_type": "code",
   "execution_count": 8,
   "metadata": {},
   "outputs": [
    {
     "data": {
      "text/html": [
       "<div>\n",
       "<style scoped>\n",
       "    .dataframe tbody tr th:only-of-type {\n",
       "        vertical-align: middle;\n",
       "    }\n",
       "\n",
       "    .dataframe tbody tr th {\n",
       "        vertical-align: top;\n",
       "    }\n",
       "\n",
       "    .dataframe thead th {\n",
       "        text-align: right;\n",
       "    }\n",
       "</style>\n",
       "<table border=\"1\" class=\"dataframe\">\n",
       "  <thead>\n",
       "    <tr style=\"text-align: right;\">\n",
       "      <th></th>\n",
       "      <th>title</th>\n",
       "      <th>title_no</th>\n",
       "      <th>context_no</th>\n",
       "      <th>context</th>\n",
       "      <th>snt_len</th>\n",
       "      <th>word_len</th>\n",
       "    </tr>\n",
       "  </thead>\n",
       "  <tbody>\n",
       "    <tr>\n",
       "      <th>1</th>\n",
       "      <td>Beyoncé</td>\n",
       "      <td>1</td>\n",
       "      <td>1</td>\n",
       "      <td>Beyoncé Giselle Knowles-Carter (/biːˈjɒnseɪ/ b...</td>\n",
       "      <td>4</td>\n",
       "      <td>117</td>\n",
       "    </tr>\n",
       "    <tr>\n",
       "      <th>2</th>\n",
       "      <td>Beyoncé</td>\n",
       "      <td>1</td>\n",
       "      <td>2</td>\n",
       "      <td>Following the disbandment of Destiny's Child i...</td>\n",
       "      <td>5</td>\n",
       "      <td>166</td>\n",
       "    </tr>\n",
       "    <tr>\n",
       "      <th>3</th>\n",
       "      <td>Beyoncé</td>\n",
       "      <td>1</td>\n",
       "      <td>3</td>\n",
       "      <td>A self-described \"modern-day feminist\", Beyonc...</td>\n",
       "      <td>8</td>\n",
       "      <td>186</td>\n",
       "    </tr>\n",
       "    <tr>\n",
       "      <th>4</th>\n",
       "      <td>Beyoncé</td>\n",
       "      <td>1</td>\n",
       "      <td>4</td>\n",
       "      <td>Beyoncé Giselle Knowles was born in Houston, T...</td>\n",
       "      <td>6</td>\n",
       "      <td>103</td>\n",
       "    </tr>\n",
       "    <tr>\n",
       "      <th>5</th>\n",
       "      <td>Beyoncé</td>\n",
       "      <td>1</td>\n",
       "      <td>5</td>\n",
       "      <td>Beyoncé attended St. Mary's Elementary School ...</td>\n",
       "      <td>6</td>\n",
       "      <td>135</td>\n",
       "    </tr>\n",
       "  </tbody>\n",
       "</table>\n",
       "</div>"
      ],
      "text/plain": [
       "     title title_no context_no  \\\n",
       "1  Beyoncé        1          1   \n",
       "2  Beyoncé        1          2   \n",
       "3  Beyoncé        1          3   \n",
       "4  Beyoncé        1          4   \n",
       "5  Beyoncé        1          5   \n",
       "\n",
       "                                             context  snt_len  word_len  \n",
       "1  Beyoncé Giselle Knowles-Carter (/biːˈjɒnseɪ/ b...        4       117  \n",
       "2  Following the disbandment of Destiny's Child i...        5       166  \n",
       "3  A self-described \"modern-day feminist\", Beyonc...        8       186  \n",
       "4  Beyoncé Giselle Knowles was born in Houston, T...        6       103  \n",
       "5  Beyoncé attended St. Mary's Elementary School ...        6       135  "
      ]
     },
     "execution_count": 8,
     "metadata": {},
     "output_type": "execute_result"
    }
   ],
   "source": [
    "# print(len(df_contxt),len(p_word_length))\n",
    "df_contxt['snt_len'] = p_snt_length\n",
    "df_contxt['word_len'] = p_word_length\n",
    "\n",
    "df_contxt.head()"
   ]
  },
  {
   "cell_type": "code",
   "execution_count": 9,
   "metadata": {},
   "outputs": [
    {
     "data": {
      "image/png": "[encoded data removed]",
      "text/plain": [
       "<Figure size 576x396 with 1 Axes>"
      ]
     },
     "metadata": {},
     "output_type": "display_data"
    }
   ],
   "source": [
    "import matplotlib.pyplot as plt\n",
    "plt.style.use('seaborn')\n",
    "plt.hist(p_word_length,bins = 50)\n",
    "plt.show()"
   ]
  },
  {
   "cell_type": "code",
   "execution_count": 10,
   "metadata": {},
   "outputs": [
    {
     "data": {
      "image/png": "[encoded data removed]",
      "text/plain": [
       "<Figure size 576x396 with 1 Axes>"
      ]
     },
     "metadata": {},
     "output_type": "display_data"
    }
   ],
   "source": [
    "plt.hist(p_snt_length,bins = 30)\n",
    "plt.show()"
   ]
  },
  {
   "cell_type": "code",
   "execution_count": 9,
   "metadata": {
    "scrolled": true
   },
   "outputs": [
    {
     "name": "stderr",
     "output_type": "stream",
     "text": [
      "100%|██████████████████████████████████████████████████████████████████████████| 86821/86821 [00:56<00:00, 1532.57it/s]\n"
     ]
    }
   ],
   "source": [
    "max_q_word_length = 0\n",
    "min_q_word_length = 1000\n",
    "max_q_snt_length = 0\n",
    "min_q_snt_length = 1000\n",
    "q_word_len = []\n",
    "q_snt_len = []\n",
    "# ran = 0\n",
    "for i in tqdm(df_qas[\"Question\"]):\n",
    "    q_word_len.append(len(TextBlob(i).words))\n",
    "    q_snt_len.append(len(TextBlob(i).sentences))\n",
    "    if len(TextBlob(i).sentences)>max_q_snt_length:\n",
    "        max_q_snt_length = len(TextBlob(i).sentences)\n",
    "    if len(TextBlob(i).sentences)<min_q_snt_length:\n",
    "        min_q_snt_length = len(TextBlob(i).sentences)\n",
    "    if len(TextBlob(i).words)<min_q_word_length:\n",
    "        min_q_word_length = len(TextBlob(i).words)\n",
    "    if len(TextBlob(i).words)>max_q_word_length:\n",
    "        max_q_word_length = len(TextBlob(i).words)\n",
    "df_qas['word_len'] = q_word_len\n",
    "df_qas['snt_len'] = q_snt_len\n",
    "#     if len(TextBlob(i).sentenses) >1"
   ]
  },
  {
   "cell_type": "code",
   "execution_count": 10,
   "metadata": {},
   "outputs": [
    {
     "name": "stdout",
     "output_type": "stream",
     "text": [
      "1 5\n",
      "1 40\n"
     ]
    },
    {
     "data": {
      "text/html": [
       "<div>\n",
       "<style scoped>\n",
       "    .dataframe tbody tr th:only-of-type {\n",
       "        vertical-align: middle;\n",
       "    }\n",
       "\n",
       "    .dataframe tbody tr th {\n",
       "        vertical-align: top;\n",
       "    }\n",
       "\n",
       "    .dataframe thead th {\n",
       "        text-align: right;\n",
       "    }\n",
       "</style>\n",
       "<table border=\"1\" class=\"dataframe\">\n",
       "  <thead>\n",
       "    <tr style=\"text-align: right;\">\n",
       "      <th></th>\n",
       "      <th>title_no</th>\n",
       "      <th>context_no</th>\n",
       "      <th>q_no</th>\n",
       "      <th>q_id</th>\n",
       "      <th>Question</th>\n",
       "      <th>Answer_text</th>\n",
       "      <th>Answer_start</th>\n",
       "      <th>is_impossible</th>\n",
       "      <th>ans_snt</th>\n",
       "      <th>word_len</th>\n",
       "      <th>snt_len</th>\n",
       "    </tr>\n",
       "  </thead>\n",
       "  <tbody>\n",
       "    <tr>\n",
       "      <th>1</th>\n",
       "      <td>1</td>\n",
       "      <td>1</td>\n",
       "      <td>1</td>\n",
       "      <td>56be85543aeaaa14008c9063</td>\n",
       "      <td>When did Beyonce start becoming popular?</td>\n",
       "      <td>in the late 1990s</td>\n",
       "      <td>269</td>\n",
       "      <td>False</td>\n",
       "      <td>NaN</td>\n",
       "      <td>6</td>\n",
       "      <td>1</td>\n",
       "    </tr>\n",
       "    <tr>\n",
       "      <th>2</th>\n",
       "      <td>1</td>\n",
       "      <td>1</td>\n",
       "      <td>2</td>\n",
       "      <td>56be85543aeaaa14008c9065</td>\n",
       "      <td>What areas did Beyonce compete in when she was...</td>\n",
       "      <td>singing and dancing</td>\n",
       "      <td>207</td>\n",
       "      <td>False</td>\n",
       "      <td>NaN</td>\n",
       "      <td>11</td>\n",
       "      <td>1</td>\n",
       "    </tr>\n",
       "    <tr>\n",
       "      <th>3</th>\n",
       "      <td>1</td>\n",
       "      <td>1</td>\n",
       "      <td>3</td>\n",
       "      <td>56be85543aeaaa14008c9066</td>\n",
       "      <td>When did Beyonce leave Destiny's Child and bec...</td>\n",
       "      <td>2003</td>\n",
       "      <td>526</td>\n",
       "      <td>False</td>\n",
       "      <td>NaN</td>\n",
       "      <td>12</td>\n",
       "      <td>1</td>\n",
       "    </tr>\n",
       "    <tr>\n",
       "      <th>4</th>\n",
       "      <td>1</td>\n",
       "      <td>1</td>\n",
       "      <td>4</td>\n",
       "      <td>56bf6b0f3aeaaa14008c9601</td>\n",
       "      <td>In what city and state did Beyonce  grow up?</td>\n",
       "      <td>Houston, Texas</td>\n",
       "      <td>166</td>\n",
       "      <td>False</td>\n",
       "      <td>NaN</td>\n",
       "      <td>9</td>\n",
       "      <td>1</td>\n",
       "    </tr>\n",
       "    <tr>\n",
       "      <th>5</th>\n",
       "      <td>1</td>\n",
       "      <td>1</td>\n",
       "      <td>5</td>\n",
       "      <td>56bf6b0f3aeaaa14008c9602</td>\n",
       "      <td>In which decade did Beyonce become famous?</td>\n",
       "      <td>late 1990s</td>\n",
       "      <td>276</td>\n",
       "      <td>False</td>\n",
       "      <td>NaN</td>\n",
       "      <td>7</td>\n",
       "      <td>1</td>\n",
       "    </tr>\n",
       "  </tbody>\n",
       "</table>\n",
       "</div>"
      ],
      "text/plain": [
       "  title_no context_no q_no                      q_id  \\\n",
       "1        1          1    1  56be85543aeaaa14008c9063   \n",
       "2        1          1    2  56be85543aeaaa14008c9065   \n",
       "3        1          1    3  56be85543aeaaa14008c9066   \n",
       "4        1          1    4  56bf6b0f3aeaaa14008c9601   \n",
       "5        1          1    5  56bf6b0f3aeaaa14008c9602   \n",
       "\n",
       "                                            Question          Answer_text  \\\n",
       "1           When did Beyonce start becoming popular?    in the late 1990s   \n",
       "2  What areas did Beyonce compete in when she was...  singing and dancing   \n",
       "3  When did Beyonce leave Destiny's Child and bec...                 2003   \n",
       "4      In what city and state did Beyonce  grow up?        Houston, Texas   \n",
       "5         In which decade did Beyonce become famous?           late 1990s   \n",
       "\n",
       "  Answer_start is_impossible  ans_snt  word_len  snt_len  \n",
       "1          269         False      NaN         6        1  \n",
       "2          207         False      NaN        11        1  \n",
       "3          526         False      NaN        12        1  \n",
       "4          166         False      NaN         9        1  \n",
       "5          276         False      NaN         7        1  "
      ]
     },
     "execution_count": 10,
     "metadata": {},
     "output_type": "execute_result"
    }
   ],
   "source": [
    "print(min_q_snt_length,max_q_snt_length)\n",
    "print(min_q_word_length,max_q_word_length)\n",
    "df_qas.head()"
   ]
  },
  {
   "cell_type": "code",
   "execution_count": 13,
   "metadata": {},
   "outputs": [
    {
     "data": {
      "image/png": "[encoded data removed]",
      "text/plain": [
       "<Figure size 576x396 with 1 Axes>"
      ]
     },
     "metadata": {},
     "output_type": "display_data"
    }
   ],
   "source": [
    "plt.hist(q_snt_len,bins = 10)\n",
    "plt.show()"
   ]
  },
  {
   "cell_type": "code",
   "execution_count": 14,
   "metadata": {},
   "outputs": [
    {
     "data": {
      "image/png": "[encoded data removed]",
      "text/plain": [
       "<Figure size 576x396 with 1 Axes>"
      ]
     },
     "metadata": {},
     "output_type": "display_data"
    }
   ],
   "source": [
    "plt.hist(q_word_len,bins = 30)\n",
    "plt.show()"
   ]
  },
  {
   "cell_type": "code",
   "execution_count": 11,
   "metadata": {},
   "outputs": [],
   "source": [
    "df_contxt = df_contxt[df_contxt.word_len <= 50 ] # removing paras with more than 200 words\n",
    "df_qas = df_qas[df_qas.snt_len ==1] # removing questions with more than one sentence"
   ]
  },
  {
   "cell_type": "code",
   "execution_count": 12,
   "metadata": {},
   "outputs": [
    {
     "data": {
      "text/plain": [
       "(1062, 86607)"
      ]
     },
     "execution_count": 12,
     "metadata": {},
     "output_type": "execute_result"
    }
   ],
   "source": [
    "len(df_contxt),len(df_qas)\n",
    "# df_contxt['context_no']"
   ]
  },
  {
   "cell_type": "code",
   "execution_count": 13,
   "metadata": {},
   "outputs": [
    {
     "name": "stderr",
     "output_type": "stream",
     "text": [
      "100%|████████████████████████████████████████████████████████████████████████████| 86607/86607 [17:33<00:00, 82.23it/s]\n"
     ]
    }
   ],
   "source": [
    "for i in tqdm(df_qas['context_no']):\n",
    "    if i not in df_contxt['context_no']:\n",
    "        #print('gotcha !',i)\n",
    "        df_qas = df_qas[df_qas.context_no != i]\n",
    "        "
   ]
  },
  {
   "cell_type": "code",
   "execution_count": 14,
   "metadata": {},
   "outputs": [
    {
     "name": "stderr",
     "output_type": "stream",
     "text": [
      "100%|██████████████████████████████████████████████████████████████████████████| 3477/3477 [00:00<00:00, 215615.64it/s]\n"
     ]
    }
   ],
   "source": [
    "for i in tqdm(df_qas['context_no']):\n",
    "    if i not in df_contxt['context_no']:\n",
    "        print('gotcha !',i)"
   ]
  },
  {
   "cell_type": "code",
   "execution_count": 16,
   "metadata": {},
   "outputs": [
    {
     "data": {
      "text/plain": [
       "(array([5.070e+02, 1.193e+03, 9.980e+02, 4.900e+02, 1.980e+02, 5.900e+01,\n",
       "        1.500e+01, 1.000e+01, 6.000e+00, 1.000e+00]),\n",
       " array([ 3. ,  6.1,  9.2, 12.3, 15.4, 18.5, 21.6, 24.7, 27.8, 30.9, 34. ]),\n",
       " <a list of 10 Patch objects>)"
      ]
     },
     "execution_count": 16,
     "metadata": {},
     "output_type": "execute_result"
    },
    {
     "data": {
      "image/png": "[encoded data removed]",
      "text/plain": [
       "<Figure size 432x288 with 1 Axes>"
      ]
     },
     "metadata": {
      "needs_background": "light"
     },
     "output_type": "display_data"
    }
   ],
   "source": [
    "df_qas.to_pickle('./current_input/squad_qas.pkl')\n",
    "df_contxt.to_pickle('./current_input/squad_contxt.pkl')\n",
    "import matplotlib.pyplot as plt\n",
    "df = pd.read_pickle('./current_input/squad_qas.pkl')\n",
    "plt.hist(df['word_len'])\n",
    "# df[]"
   ]
  },
  {
   "cell_type": "code",
   "execution_count": 17,
   "metadata": {},
   "outputs": [
    {
     "data": {
      "text/html": [
       "<div>\n",
       "<style scoped>\n",
       "    .dataframe tbody tr th:only-of-type {\n",
       "        vertical-align: middle;\n",
       "    }\n",
       "\n",
       "    .dataframe tbody tr th {\n",
       "        vertical-align: top;\n",
       "    }\n",
       "\n",
       "    .dataframe thead th {\n",
       "        text-align: right;\n",
       "    }\n",
       "</style>\n",
       "<table border=\"1\" class=\"dataframe\">\n",
       "  <thead>\n",
       "    <tr style=\"text-align: right;\">\n",
       "      <th></th>\n",
       "      <th>title_no</th>\n",
       "      <th>context_no</th>\n",
       "      <th>q_no</th>\n",
       "      <th>q_id</th>\n",
       "      <th>Question</th>\n",
       "      <th>Answer_text</th>\n",
       "      <th>Answer_start</th>\n",
       "      <th>is_impossible</th>\n",
       "      <th>ans_snt</th>\n",
       "      <th>word_len</th>\n",
       "      <th>snt_len</th>\n",
       "    </tr>\n",
       "  </thead>\n",
       "  <tbody>\n",
       "    <tr>\n",
       "      <th>316</th>\n",
       "      <td>1</td>\n",
       "      <td>26</td>\n",
       "      <td>316</td>\n",
       "      <td>56bea27b3aeaaa14008c9199</td>\n",
       "      <td>Beyonce released the song \"Formation\" on which...</td>\n",
       "      <td>Tidal</td>\n",
       "      <td>140</td>\n",
       "      <td>False</td>\n",
       "      <td>NaN</td>\n",
       "      <td>10</td>\n",
       "      <td>1</td>\n",
       "    </tr>\n",
       "    <tr>\n",
       "      <th>317</th>\n",
       "      <td>1</td>\n",
       "      <td>26</td>\n",
       "      <td>317</td>\n",
       "      <td>56bea27b3aeaaa14008c919a</td>\n",
       "      <td>Beyonce's new single released before the super...</td>\n",
       "      <td>Formation</td>\n",
       "      <td>154</td>\n",
       "      <td>False</td>\n",
       "      <td>NaN</td>\n",
       "      <td>12</td>\n",
       "      <td>1</td>\n",
       "    </tr>\n",
       "    <tr>\n",
       "      <th>318</th>\n",
       "      <td>1</td>\n",
       "      <td>26</td>\n",
       "      <td>318</td>\n",
       "      <td>56bfa8bba10cfb140055120b</td>\n",
       "      <td>What day did Beyonce release her single, Forma...</td>\n",
       "      <td>February 6, 2016</td>\n",
       "      <td>3</td>\n",
       "      <td>False</td>\n",
       "      <td>NaN</td>\n",
       "      <td>8</td>\n",
       "      <td>1</td>\n",
       "    </tr>\n",
       "    <tr>\n",
       "      <th>319</th>\n",
       "      <td>1</td>\n",
       "      <td>26</td>\n",
       "      <td>319</td>\n",
       "      <td>56bfa8bba10cfb140055120c</td>\n",
       "      <td>How was the single released?</td>\n",
       "      <td>exclusively</td>\n",
       "      <td>101</td>\n",
       "      <td>False</td>\n",
       "      <td>NaN</td>\n",
       "      <td>5</td>\n",
       "      <td>1</td>\n",
       "    </tr>\n",
       "    <tr>\n",
       "      <th>320</th>\n",
       "      <td>1</td>\n",
       "      <td>26</td>\n",
       "      <td>320</td>\n",
       "      <td>56bfa8bba10cfb140055120d</td>\n",
       "      <td>What was the name of the streaming service?</td>\n",
       "      <td>Tidal</td>\n",
       "      <td>140</td>\n",
       "      <td>False</td>\n",
       "      <td>NaN</td>\n",
       "      <td>8</td>\n",
       "      <td>1</td>\n",
       "    </tr>\n",
       "  </tbody>\n",
       "</table>\n",
       "</div>"
      ],
      "text/plain": [
       "    title_no context_no q_no                      q_id  \\\n",
       "316        1         26  316  56bea27b3aeaaa14008c9199   \n",
       "317        1         26  317  56bea27b3aeaaa14008c919a   \n",
       "318        1         26  318  56bfa8bba10cfb140055120b   \n",
       "319        1         26  319  56bfa8bba10cfb140055120c   \n",
       "320        1         26  320  56bfa8bba10cfb140055120d   \n",
       "\n",
       "                                              Question       Answer_text  \\\n",
       "316  Beyonce released the song \"Formation\" on which...             Tidal   \n",
       "317  Beyonce's new single released before the super...         Formation   \n",
       "318  What day did Beyonce release her single, Forma...  February 6, 2016   \n",
       "319                       How was the single released?       exclusively   \n",
       "320        What was the name of the streaming service?             Tidal   \n",
       "\n",
       "    Answer_start is_impossible  ans_snt  word_len  snt_len  \n",
       "316          140         False      NaN        10        1  \n",
       "317          154         False      NaN        12        1  \n",
       "318            3         False      NaN         8        1  \n",
       "319          101         False      NaN         5        1  \n",
       "320          140         False      NaN         8        1  "
      ]
     },
     "execution_count": 17,
     "metadata": {},
     "output_type": "execute_result"
    }
   ],
   "source": [
    "df.head()"
   ]
  },
  {
   "cell_type": "code",
   "execution_count": 26,
   "metadata": {},
   "outputs": [],
   "source": [
    "df_qas['context_no'].unique()\n",
    "df_contxt_train = df_contxt[df_contxt.context_no <= 12000]\n",
    "df_contxt_test = df_contxt[df_contxt.context_no > 12000]\n",
    "df_qas_train = df_qas[df_qas.context_no <= 12000]\n",
    "df_qas_test = df_qas[df_qas.context_no > 12000]\n",
    "df_qas_train.to_pickle('./current_input/squad_qas_train.pkl')\n",
    "df_contxt_train.to_pickle('./current_input/squad_contxt_train.pkl')\n",
    "df_qas_test.to_pickle('./current_input/squad_qas_test.pkl')\n",
    "df_contxt_test.to_pickle('./current_input/squad_contxt_test.pkl')"
   ]
  },
  {
   "cell_type": "markdown",
   "metadata": {},
   "source": [
    "### Preprocessing data"
   ]
  },
  {
   "cell_type": "code",
   "execution_count": 27,
   "metadata": {},
   "outputs": [
    {
     "data": {
      "text/html": [
       "<div>\n",
       "<style scoped>\n",
       "    .dataframe tbody tr th:only-of-type {\n",
       "        vertical-align: middle;\n",
       "    }\n",
       "\n",
       "    .dataframe tbody tr th {\n",
       "        vertical-align: top;\n",
       "    }\n",
       "\n",
       "    .dataframe thead th {\n",
       "        text-align: right;\n",
       "    }\n",
       "</style>\n",
       "<table border=\"1\" class=\"dataframe\">\n",
       "  <thead>\n",
       "    <tr style=\"text-align: right;\">\n",
       "      <th></th>\n",
       "      <th>title_no</th>\n",
       "      <th>context_no</th>\n",
       "      <th>q_no</th>\n",
       "      <th>q_id</th>\n",
       "      <th>Question</th>\n",
       "      <th>Answer_text</th>\n",
       "      <th>Answer_start</th>\n",
       "      <th>is_impossible</th>\n",
       "      <th>word_len</th>\n",
       "      <th>snt_len</th>\n",
       "    </tr>\n",
       "  </thead>\n",
       "  <tbody>\n",
       "    <tr>\n",
       "      <th>1</th>\n",
       "      <td>1</td>\n",
       "      <td>1</td>\n",
       "      <td>1</td>\n",
       "      <td>56be85543aeaaa14008c9063</td>\n",
       "      <td>When did Beyonce start becoming popular?</td>\n",
       "      <td>in the late 1990s</td>\n",
       "      <td>269</td>\n",
       "      <td>False</td>\n",
       "      <td>6</td>\n",
       "      <td>1</td>\n",
       "    </tr>\n",
       "    <tr>\n",
       "      <th>2</th>\n",
       "      <td>1</td>\n",
       "      <td>1</td>\n",
       "      <td>2</td>\n",
       "      <td>56be85543aeaaa14008c9065</td>\n",
       "      <td>What areas did Beyonce compete in when she was...</td>\n",
       "      <td>singing and dancing</td>\n",
       "      <td>207</td>\n",
       "      <td>False</td>\n",
       "      <td>11</td>\n",
       "      <td>1</td>\n",
       "    </tr>\n",
       "    <tr>\n",
       "      <th>3</th>\n",
       "      <td>1</td>\n",
       "      <td>1</td>\n",
       "      <td>3</td>\n",
       "      <td>56be85543aeaaa14008c9066</td>\n",
       "      <td>When did Beyonce leave Destiny's Child and bec...</td>\n",
       "      <td>2003</td>\n",
       "      <td>526</td>\n",
       "      <td>False</td>\n",
       "      <td>12</td>\n",
       "      <td>1</td>\n",
       "    </tr>\n",
       "    <tr>\n",
       "      <th>4</th>\n",
       "      <td>1</td>\n",
       "      <td>1</td>\n",
       "      <td>4</td>\n",
       "      <td>56bf6b0f3aeaaa14008c9601</td>\n",
       "      <td>In what city and state did Beyonce  grow up?</td>\n",
       "      <td>Houston, Texas</td>\n",
       "      <td>166</td>\n",
       "      <td>False</td>\n",
       "      <td>9</td>\n",
       "      <td>1</td>\n",
       "    </tr>\n",
       "    <tr>\n",
       "      <th>5</th>\n",
       "      <td>1</td>\n",
       "      <td>1</td>\n",
       "      <td>5</td>\n",
       "      <td>56bf6b0f3aeaaa14008c9602</td>\n",
       "      <td>In which decade did Beyonce become famous?</td>\n",
       "      <td>late 1990s</td>\n",
       "      <td>276</td>\n",
       "      <td>False</td>\n",
       "      <td>7</td>\n",
       "      <td>1</td>\n",
       "    </tr>\n",
       "  </tbody>\n",
       "</table>\n",
       "</div>"
      ],
      "text/plain": [
       "  title_no context_no q_no                      q_id  \\\n",
       "1        1          1    1  56be85543aeaaa14008c9063   \n",
       "2        1          1    2  56be85543aeaaa14008c9065   \n",
       "3        1          1    3  56be85543aeaaa14008c9066   \n",
       "4        1          1    4  56bf6b0f3aeaaa14008c9601   \n",
       "5        1          1    5  56bf6b0f3aeaaa14008c9602   \n",
       "\n",
       "                                            Question          Answer_text  \\\n",
       "1           When did Beyonce start becoming popular?    in the late 1990s   \n",
       "2  What areas did Beyonce compete in when she was...  singing and dancing   \n",
       "3  When did Beyonce leave Destiny's Child and bec...                 2003   \n",
       "4      In what city and state did Beyonce  grow up?        Houston, Texas   \n",
       "5         In which decade did Beyonce become famous?           late 1990s   \n",
       "\n",
       "  Answer_start is_impossible  word_len  snt_len  \n",
       "1          269         False         6        1  \n",
       "2          207         False        11        1  \n",
       "3          526         False        12        1  \n",
       "4          166         False         9        1  \n",
       "5          276         False         7        1  "
      ]
     },
     "execution_count": 27,
     "metadata": {},
     "output_type": "execute_result"
    }
   ],
   "source": [
    "df_qas_train.head()"
   ]
  },
  {
   "cell_type": "code",
   "execution_count": null,
   "metadata": {},
   "outputs": [],
   "source": [
    "class prep_data():\n",
    "    \"\"\"\n",
    "    \n",
    "    \"\"\"\n",
    "    def __init__(self, word_e = word_vec):\n",
    "        \n",
    "        self.contxt = pd.read_pickle('./current_input/squad_contxt_train.pkl')\n",
    "        self.qas = pd.read_pickle('./current_input/squad_qas_train.pkl')\n",
    "        self.qas['max'] = self.qas['word_len']+self.qas['snt_len']\n",
    "        self.max_q_len = max(self.qas['max'])\n",
    "        self.contxt['max'] = self.contxt['word_len']+self.contxt['snt_len']\n",
    "        self.max_p_len = max(self.contxt['max'])\n",
    "        self.word_e = word_e\n",
    "    \n",
    "    def get_snt(self,q_no):\n",
    "        ans,p_no = self.qas.loc[self.qas['q_no'] == i]['Answer_start'][q_no],self.qas.loc[df_qas['q_no'] == q_no]['context_no'][q_no]\n",
    "        para = str(self.contxt.loc[self.contxt['context_no']== p_no]['context'][p_no])\n",
    "        c = -1\n",
    "        snt = TextBlob(para).sentences\n",
    "        p_len = len(snt)\n",
    "        for j in range(p_len):\n",
    "        c += len(snt[j])+1\n",
    "        if ans<c:\n",
    "#             df_qas.loc[df_qas['q_no'] == i]['ans_snt'][i] = j\n",
    "            return j\n",
    "\n",
    "    def C2V(self,q_no):   # this function converts context 2 vector with <EOS> tag\n",
    "        tb_p = TextBlob(self.context['Context'][self.qas['context_no'][q_no]])#TextBlob(passage)\n",
    "        tb_q = TextBlob(self.qas['Question'][q_no])\n",
    "        p2v = []\n",
    "        q2v = []\n",
    "        eos_tag = []\n",
    "        c = 0\n",
    "        for i in tb_p.sentences:\n",
    "            words = TextBlob(str(i)+\" E-O-S\").words\n",
    "            for j in words:\n",
    "                p2v.append(self.word_e[j])\n",
    "                if j=='E-O-S':\n",
    "                    eos_tag.append(c)\n",
    "            c += 1\n",
    "        for k in (str(tb_q)+\" E-O-S\").words:\n",
    "            q2v.append(self.word_e[k])\n",
    "        \n",
    "        ans_snt = self.get_snt(q_no)\n",
    "            \n",
    "        return np.array(p2v),np.array(q2v),eos_tag,ans_snt\n",
    "    \n",
    "#     def QA2V(self,q_no):  # this function converts question 2 vector\n",
    "#         tb_a = TextBlob(self)\n",
    "        \n",
    "        \n",
    "        "
   ]
  },
  {
   "cell_type": "markdown",
   "metadata": {},
   "source": [
    "###  Building the model"
   ]
  },
  {
   "cell_type": "code",
   "execution_count": null,
   "metadata": {},
   "outputs": [],
   "source": [
    "class gru_models():\n",
    "    \"\"\"\n",
    "        It's a modified version of normal GRU\n",
    "    \"\"\"\n",
    "    def __init__(self,time_steps,init_state,input_size,tag,\n",
    "                 output_size,question=None,final_mem=None,input_seq=None):\n",
    "        \n",
    "        # inputs required for sequential memory vectors e_i \n",
    "        self.time_steps = time_steps              # equal to max no concepts\n",
    "        self.init_state = init_state              # initial secondary input ideally zero tensor\n",
    "        self.input_seq = input_seq                # input seq to be evaluated\n",
    "        self.input_size = input_size              # size of input vector \n",
    "        self.output_size = output_size            # size of output required\n",
    "        \n",
    "        # inputs required for Answer modules\n",
    "        self.question = question\n",
    "        self.final_mem = final_mem\n",
    "        self.word_weight = tf.get_variable(\"word_w_{}\".format(tag),[output_size,output_size],dtype=tf.float64)\n",
    "        self.word_bias = tf.get_variable(\"word_b_{}\".format(tag),[output_size,1],dtype=tf.float64)\n",
    "        \n",
    "        # parameters of gru\n",
    "        self.W_z,self.W_r,self.W_h = tf.get_variable(\"update_w_{}\".format(tag),[output_size,input_size],dtype=tf.float64),tf.get_variable(\"reset_w_{}\".format(tag),[output_size,input_size],dtype=tf.float64),tf.get_variable(\"out_w_{}\".format(tag),[output_size,input_size],dtype=tf.float64)\n",
    "        self.U_z,self.U_r,self.U_h = tf.get_variable(\"update_u_{}\".format(tag),[output_size,output_size],dtype=tf.float64),tf.get_variable(\"reset_u_{}\".format(tag),[output_size,output_size],dtype=tf.float64),tf.get_variable(\"out_u_{}\".format(tag),[output_size,output_size],dtype=tf.float64)\n",
    "        self.b_z,self.b_r,self.b_h = tf.get_variable(\"update_b_{}\".format(tag),[output_size,1],dtype=tf.float64),tf.get_variable(\"reset_b_{}\".format(tag),[output_size,1],dtype=tf.float64),tf.get_variable(\"out_b_{}\".format(tag),[output_size,1],dtype=tf.float64)\n",
    "    \n",
    "    \"\"\" Normal GRU unit \"\"\"\n",
    "    def gru_unit(self,h_prev,steps,out=[]):\n",
    "        index = steps - self.time_steps \n",
    "        input_vector = self.input_seq[index]\n",
    "        # operations \n",
    "        z_t = tf.nn.sigmoid(tf.matmul(self.W_z,input_vector)+tf.matmul(self.U_z,h_prev)+self.b_z)\n",
    "        r_t = tf.nn.sigmoid(tf.matmul(self.W_r,input_vector)+tf.matmul(self.U_r,h_prev)+self.b_r)\n",
    "        h_t = tf.multiply(z_t,h_prev)+tf.multiply(1.-z_t,tf.nn.sigmoid(tf.matmul(self.W_h,input_vector)+tf.matmul(self.U_h,tf.multiply(r_t,h_prev))+self.b_h))\n",
    "        out.append(h_t)\n",
    "        self.time_steps -= 1\n",
    "        if self.time_steps == 0:\n",
    "            return(out)\n",
    "        else:\n",
    "            return self.gru_unit(h_prev = h_t,out = out,steps = steps) \n",
    "    \n",
    "    \n",
    "    \"\"\"\n",
    "    it's a modified GRU !!!\n",
    "    \"\"\"\n",
    "    def mod_gru_unit(self,h_prev,steps,scalar_values,out=[],index=0):\n",
    "        input_vector = self.input_seq[index]\n",
    "        # operations\n",
    "        z_t = tf.nn.sigmoid(tf.matmul(self.W_z,input_vector)+tf.matmul(self.U_z,h_prev)+self.b_z)\n",
    "        r_t = tf.nn.sigmoid(tf.matmul(self.W_r,input_vector)+tf.matmul(self.U_r,h_prev)+self.b_r)\n",
    "        h_t = tf.multiply(z_t,h_prev)+tf.multiply(1.-z_t,tf.nn.sigmoid(tf.matmul(self.W_h,input_vector)+tf.matmul(self.U_h,tf.multiply(r_t,h_prev))+self.b_h))\n",
    "        h_t = (scalar_values[index]*h_t) + ((1-scalar_values[index])*h_prev)\n",
    "        out.append(h_t)\n",
    "        index += 1\n",
    "        if steps-index == 0:\n",
    "            return(out)\n",
    "        else:\n",
    "            return self.mod_gru_unit(h_prev = h_t,out = out,steps = steps,\n",
    "                                     scalar_values=scalar_values,index=index) \n",
    "        \n",
    "    \"\"\" It's a hybrid GRU for answer module \"\"\"\n",
    "    def answer_gru_unit(self,h_prev,word_prev,out=[]):\n",
    "        input_vector = tf.concat([word_prev,self.question],axis=0)\n",
    "        z_t = tf.nn.sigmoid(tf.matmul(self.W_z,input_vector)+tf.matmul(self.U_z,h_prev)+self.b_z)\n",
    "        r_t = tf.nn.sigmoid(tf.matmul(self.W_r,input_vector)+tf.matmul(self.U_r,h_prev)+self.b_r)\n",
    "        h_t = tf.multiply(z_t,h_prev)+tf.multiply(1.-z_t,tf.nn.sigmoid(tf.matmul(self.W_h,input_vector)+tf.matmul(self.U_h,tf.multiply(r_t,h_prev))+self.b_h))\n",
    "        word_pred = tf.nn.softmax(tf.matmul(self.word_weight,h_t)+self.word_bias)\n",
    "        out.append(word_pred)\n",
    "        self.time_steps -= 1\n",
    "        if self.time_steps == 0:\n",
    "            return(out)\n",
    "        else:\n",
    "            return self.answer_gru_unit(h_prev = h_t,word_prev = word_pred,out = out) "
   ]
  },
  {
   "cell_type": "code",
   "execution_count": null,
   "metadata": {},
   "outputs": [],
   "source": [
    "class DMN_QA():\n",
    "    \"\"\"\n",
    "    the word vectors have size 100\n",
    "    the max no of words in a sentence is 120\n",
    "    \"\"\"\n",
    "    \n",
    "    def __init__(self):\n",
    "        self.MAX_P_WORDS = 120       # max no of words in a passage\n",
    "        self.WORD_VEC_LEN = 100      # word vector length\n",
    "        self.MAX_Q_WORDS = 10        # max no of words in question\n",
    "        self.MAX_NO_CONCEPTS = 5      # max no of concepts\n",
    "        \n",
    "        # variables and placeholders\n",
    "        self.Passage = tf.placeholder(shape=(self.MAX_P_WORDS,self.WORD_VEC_LEN,1),dtype = tf.float64)\n",
    "#         self.EOS_Tag = tf.placeholder(tf.float64)\n",
    "        self.Question = tf.placeholder(shape=(self.MAX_Q_WORDS,self.WORD_VEC_LEN,1),dtype = tf.float64) #sequence for question\n",
    "#         self.Answer = tf.placeholder(tf.float64)\n",
    "\n",
    "        # weigts for scalar kernel and memory vector\n",
    "        self.W_b = tf.get_variable(\"W_b\",shape=(100,100),dtype=tf.float64)\n",
    "        self.W_1 = tf.get_variable(\"W_1\",shape=(200,702),dtype=tf.float64)\n",
    "        self.b_1 = tf.get_variable(\"b_1\",shape=(200,1),dtype=tf.float64)\n",
    "        self.W_2 = tf.get_variable(\"W_2\",shape=(1,200),dtype=tf.float64)\n",
    "        self.b_2 = tf.get_variable(\"b_2\",shape=(1,1),dtype=tf.float64)\n",
    "        \n",
    "        # initial memory state\n",
    "#         self.memory = tf.placeholder(shape=(100,1),dtype=tf.float64)\n",
    "        \n",
    "        #training parameters\n",
    "        self.no_epoch = 10\n",
    "        self.df_contxt = pd.read_pickle('./input/squad_contxt.pkl') # context\n",
    "        self.df_qas = pd.read_pickle('./input/squad_qas.pkl')       # question and answers\n",
    "        \n",
    "    def scalar_gate_value(self,concept):  # debugged and perfect\n",
    "        z_vector = tf.concat((concept,self.memory),axis=0)\n",
    "        z_vector = tf.concat((z_vector,self.question),axis=0)\n",
    "        z_vector = tf.concat((z_vector,tf.multiply(concept,self.question)),axis=0)\n",
    "        z_vector = tf.concat((z_vector,tf.multiply(concept,self.memory)),axis=0)\n",
    "        z_vector = tf.concat((z_vector,concept-self.question),axis=0)\n",
    "        z_vector = tf.concat((z_vector,concept-self.memory),axis=0)\n",
    "        z_vector = tf.concat((z_vector,tf.matmul(tf.transpose(concept),tf.matmul(self.W_b,self.question))),axis=0)\n",
    "        z_vector = tf.concat((z_vector,tf.matmul(tf.transpose(concept),tf.matmul(self.W_b,self.memory))),axis=0)\n",
    "        g_1 =  tf.nn.tanh(tf.add(tf.matmul(self.W_1,z_vector),self.b_1))\n",
    "        g_scalar =  tf.nn.sigmoid(tf.add(tf.matmul(self.W_2,g_1),self.b_2))\n",
    "        return g_scalar\n",
    "        \n",
    "    def epi_mem_mod(self,concepts,no_of_iterations,mode,mem_states=[]): #debugged\n",
    "        self.scalar_vector = []\n",
    "        for i in concepts:\n",
    "            self.scalar_vector.append(self.scalar_gate_value(i))\n",
    "        \n",
    "        concepts_out = mode.mod_gru_unit(h_prev = self.memory,steps=len(concepts),scalar_values=self.scalar_vector,\n",
    "                          out=[])\n",
    "        self.memory = concepts_out[-1]\n",
    "        mem_states.append(concepts_out[-1])\n",
    "\n",
    "        if no_of_iterations != 0:\n",
    "            self.epi_mem_mod(concepts,no_of_iterations-1,\n",
    "                        mode,mem_states)\n",
    "\n",
    "        return mem_states\n",
    "    \n",
    "    def get_sentence_weight(self,q_no):\n",
    "        y = self.df_contxt['context'][self.df_qas['context_no'][q_no]]\n",
    "        c = -1\n",
    "        count = 0\n",
    "        snt_wt = np.zeros(self.MAX_NO_CONCEPTS)\n",
    "        if self.df_qas['is_impossible'][q_no]!= True:\n",
    "            print()\n",
    "            for i in TextBlob(y).sentences:\n",
    "                c += (len(i)+1)\n",
    "                if self.df_qas['Answer_start'][q_no] < c:\n",
    "                    snt_wt[count] = 1.\n",
    "                    break\n",
    "        return snt_wt\n",
    "    \n",
    "    def build(self):\n",
    "        \n",
    "        # question module \n",
    "        Q_module = gru_models(time_steps=self.MAX_Q_WORDS,\n",
    "                              init_state=np.zeros([self.WORD_VEC_LEN,1]),\n",
    "                              input_size=100,output_size=100,\n",
    "                              input_seq=self.Question,tag=1)\n",
    "        Q_out = Q_module.gru_unit(h_prev=np.zeros([self.WORD_VEC_LEN,1]),\n",
    "                                  steps=self.MAX_Q_WORDS,out=[])\n",
    "        \n",
    "        self.question = Q_out[-1] # final representation of question\n",
    "        #passage module\n",
    "        P_module = gru_models(time_steps=self.MAX_P_WORDS,\n",
    "                              init_state=np.zeros([self.WORD_VEC_LEN,1]),\n",
    "                              input_size=100,output_size=100,\n",
    "                              input_seq=self.Passage,tag=2)\n",
    "        P_out = P_module.gru_unit(h_prev=np.zeros([self.WORD_VEC_LEN,1]),steps=self.MAX_P_WORDS,out=[])\n",
    "        #episodic memory module\n",
    "        concepts = P_out[:3]  # selected E-O-S tags from P_out\n",
    "        epi_mod = gru_models(time_steps=2,\n",
    "                             init_state=np.zeros([self.WORD_VEC_LEN,1]),\n",
    "                             input_size=100,output_size=100,\n",
    "                             input_seq=concepts,tag=3)\n",
    "        self.mem_states = self.epi_mem_mod(concepts,10,epi_mod,[])\n",
    "        \n",
    "        self.output = self.scalar_vector\n",
    "        \n",
    "        return self.output\n",
    "    \n",
    "    def train_model(self):\n",
    "        pred = self.build()\n",
    "        cost = self.snt_wt - pred\n",
    "        init_op = tf.global_variables_initializer()\n",
    "        optimizer = tf.train.GradientDescentOptimizer(self.learning_rate).minimize(cost)\n",
    "        with tf.Session() as sess:\n",
    "            sess.run(init_op)\n",
    "            for i in range(self.no_epoch):\n",
    "                c = 0\n",
    "                while c<1000:\n",
    "                    q_no  = np.random.randint(0,10000)\n",
    "                    sess.run(optimizer,feed_dict={self.Passage: self.df_contxt['context'][self.df_qas['context_no'][q_no]] ,\n",
    "                                                 self.Question: self.df_qas['Question'][q_no] ,\n",
    "                                                 self.})\n",
    "                    \n",
    "                    \n",
    "            \n",
    "            \n",
    "        \n",
    "    \n",
    "        \"\"\"\n",
    "        #answer module\n",
    "        A_module = gru_models(time_steps=len(self.mem_states),\n",
    "                              init_state=None,\n",
    "                              question=self.question,\n",
    "                              input_size=200,output_size=100,\n",
    "                              input_seq=self.mem_states,tag=4)\n",
    "        A_out = A_module.answer_gru_unit(h_prev=self.mem_states[-1],\n",
    "                                         word_prev=np.zeros([self.WORD_VEC_LEN,1]),\n",
    "                                         out=[]) \n",
    "        \"\"\"\n",
    "                \n",
    "#         print(A_out)       \n",
    "        \n",
    "        "
   ]
  },
  {
   "cell_type": "code",
   "execution_count": null,
   "metadata": {},
   "outputs": [],
   "source": [
    "tf.reset_default_graph()\n",
    "g = tf.Graph()\n",
    "with g.as_default():\n",
    "    x = DMN_QA()\n",
    "    y = x.build()\n",
    "    \n",
    "print(y)"
   ]
  },
  {
   "cell_type": "code",
   "execution_count": null,
   "metadata": {},
   "outputs": [],
   "source": [
    "def QA2V(context_no,question_no):\n",
    "    passage = TextBlob(df_contxt['context'][context_no])\n",
    "    question = TextBlob(df_qas['Question'][question_no])\n",
    "    if df_qas['is_impossible'][question_no]==False:\n",
    "        answer = TextBlob(df_qas['Answer_text'][question_no])\n",
    "        beginning = passage[:df_qas['Answer_start'][question_no]]\n",
    "        end = passage[df_qas['Answer_start'][question_no]+len(answer):]  # verified\n",
    "        print(answer,'\\n',beginning,'\\n',end)\n",
    "    print(len(passage.words),'\\n',len(beginning.words),'\\n',len(answer.words),'\\n',len(end.words))\n",
    "        \n",
    "    "
   ]
  },
  {
   "cell_type": "code",
   "execution_count": null,
   "metadata": {},
   "outputs": [],
   "source": [
    "# QA2V(1000,1)"
   ]
  },
  {
   "cell_type": "code",
   "execution_count": null,
   "metadata": {},
   "outputs": [],
   "source": [
    "df_contxt['context'][3]"
   ]
  },
  {
   "cell_type": "code",
   "execution_count": null,
   "metadata": {},
   "outputs": [],
   "source": [
    "q_no = 200\n",
    "x = df_qas[['Question','context_no','q_no','Answer_start','Answer_text','is_impossible']]\n",
    "print(df_contxt['context'][x['context_no'][q_no]],'\\n\\n',\n",
    "      x['Question'][q_no],'\\n\\n',\n",
    "      x['Answer_text'][q_no],'\\n\\n',\n",
    "      x['Answer_start'][q_no])"
   ]
  },
  {
   "cell_type": "code",
   "execution_count": null,
   "metadata": {},
   "outputs": [],
   "source": [
    "y = TextBlob(df_contxt['context'][x['context_no'][q_no]]).sentences\n",
    "k = len(df_contxt['context'][x['context_no'][q_no]])\n",
    "c = -1\n",
    "for i in y:\n",
    "#     print('\\n',i,len(i))\n",
    "    c += len(i)+1\n",
    "print(c,k)"
   ]
  },
  {
   "cell_type": "code",
   "execution_count": null,
   "metadata": {},
   "outputs": [],
   "source": [
    "\n",
    "    \n",
    "    "
   ]
  },
  {
   "cell_type": "code",
   "execution_count": null,
   "metadata": {},
   "outputs": [],
   "source": []
  },
  {
   "cell_type": "code",
   "execution_count": null,
   "metadata": {},
   "outputs": [],
   "source": [
    "df_qas.keys()"
   ]
  },
  {
   "cell_type": "code",
   "execution_count": null,
   "metadata": {},
   "outputs": [],
   "source": [
    "df_contxt.keys()"
   ]
  },
  {
   "cell_type": "code",
   "execution_count": 4,
   "metadata": {},
   "outputs": [
    {
     "data": {
      "text/plain": [
       "TextBlob(\"Prince.\")"
      ]
     },
     "execution_count": 4,
     "metadata": {},
     "output_type": "execute_result"
    }
   ],
   "source": [
    "p = TextBlob('I am Prince.')\n",
    "p[5:]"
   ]
  },
  {
   "cell_type": "code",
   "execution_count": null,
   "metadata": {},
   "outputs": [],
   "source": []
  },
  {
   "cell_type": "code",
   "execution_count": null,
   "metadata": {},
   "outputs": [],
   "source": []
  }
 ],
 "metadata": {
  "kernelspec": {
   "display_name": "Python 3",
   "language": "python",
   "name": "python3"
  },
  "language_info": {
   "codemirror_mode": {
    "name": "ipython",
    "version": 3
   },
   "file_extension": ".py",
   "mimetype": "text/x-python",
   "name": "python",
   "nbconvert_exporter": "python",
   "pygments_lexer": "ipython3",
   "version": "3.5.2"
  }
 },
 "nbformat": 4,
 "nbformat_minor": 2
}
