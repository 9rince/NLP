{
 "cells": [
  {
   "cell_type": "code",
   "execution_count": 1,
   "metadata": {},
   "outputs": [
    {
     "name": "stderr",
     "output_type": "stream",
     "text": [
      "c:\\users\\princ3\\anaconda3\\envs\\tfconda\\lib\\site-packages\\gensim\\utils.py:860: UserWarning: detected Windows; aliasing chunkize to chunkize_serial\n",
      "  warnings.warn(\"detected Windows; aliasing chunkize to chunkize_serial\")\n"
     ]
    }
   ],
   "source": [
    "import tensorflow as tf\n",
    "from gensim.models import Word2Vec\n",
    "import pandas as pd\n",
    "from textblob import TextBlob\n",
    "import numpy as np"
   ]
  },
  {
   "cell_type": "markdown",
   "metadata": {},
   "source": [
    "### Importing the word2vec models"
   ]
  },
  {
   "cell_type": "code",
   "execution_count": 2,
   "metadata": {},
   "outputs": [],
   "source": [
    "word_vec = Word2Vec.load('model.bin')    # word embedding\n",
    "# char_vec = Word2Vec.load('model_c.bin')  # charector embedding"
   ]
  },
  {
   "cell_type": "markdown",
   "metadata": {},
   "source": [
    "### Importing the dataset"
   ]
  },
  {
   "cell_type": "code",
   "execution_count": 3,
   "metadata": {},
   "outputs": [],
   "source": [
    "df_contxt = pd.read_pickle('./input/squad_contxt.pkl') # context\n",
    "df_qas = pd.read_pickle('./input/squad_qas.pkl')       # question and answers"
   ]
  },
  {
   "cell_type": "markdown",
   "metadata": {},
   "source": [
    "### Preprocessing data"
   ]
  },
  {
   "cell_type": "code",
   "execution_count": 4,
   "metadata": {},
   "outputs": [],
   "source": [
    "class prep_data():\n",
    "    \"\"\"\n",
    "    \n",
    "    \"\"\"\n",
    "    def __init__(self,contxt = df_contxt,qas = df_qas, word_e = word_vec):\n",
    "        \n",
    "        self.contxt = contxt\n",
    "        self.qas = qas\n",
    "        self.char_e = char_e\n",
    "        self.word_e = word_e\n",
    "\n",
    "    def C2V(self,passage):   # this function converts context 2 vector with <EOS> tag\n",
    "        tb_p = TextBlob(passage)\n",
    "        p2v = []\n",
    "        for i in tb_p.sentences:\n",
    "            words = TextBlob(str(i)+\" E-O-S\").words\n",
    "            for j in words:\n",
    "                p2v.append(word_vec[j])\n",
    "        return np.array(p2v)\n",
    "    \n",
    "    def QA2V(self,question_no):  # this function converts question 2 vector\n",
    "        tb_a = TextBlob(self)\n",
    "        \n",
    "        "
   ]
  },
  {
   "cell_type": "markdown",
   "metadata": {},
   "source": [
    "###  Building the model"
   ]
  },
  {
   "cell_type": "code",
   "execution_count": 5,
   "metadata": {},
   "outputs": [],
   "source": [
    "class DMN_QA():\n",
    "    \"\"\"\n",
    "    the word vectors have size 100\n",
    "    the max no of words in a sentence is 120\n",
    "    the answers are fed as starting and ending of the span\n",
    "    \"\"\"\n",
    "    \n",
    "    def __init__(self):\n",
    "        self.MAX_WORD_NO = 120\n",
    "        self.WORD_VEC_LEN = 100\n",
    "    \n",
    "    def build(self):\n",
    "        # variables and placeholders\n",
    "        Passage = tf.placeholder(tf.float32)\n",
    "        EOS_Tag = tf.placeholder(tf.float32)\n",
    "        Question = tf.placeholder(tf.float32)\n",
    "        Answer = tf.placeholder(tf.float32)     \n",
    "                 \n",
    "        # weigts for scalar kernel and memory vector\n",
    "        W_b = tf.Variable(tf.float32)\n",
    "        W_1 = tf.Variable(tf.float32)\n",
    "        b_1 = tf.Variable(tf.float32)\n",
    "        W_2 = tf.Variable(tf.float32)\n",
    "        b_2 = tf.Variable(tf.float32)\n",
    "        \n",
    "        # model architecture\n",
    "        \n",
    "        # question layer\n",
    "        P_layer= GRU_layer(num_units=100,num_layers=120,input_data=Passage)\n",
    "        P_OUT,P_STATE = tf.nn.dynamic_rnn(P_layer, data, dtype=tf.float32)\n",
    "        # answer layer\n",
    "        Q_layer= GRU_layer(num_units=100,num_layers=120,input_data=Question)\n",
    "        Q_OUT,Q_STATE = tf.nn.dynamic_rnn(Q_layer, data, dtype=tf.float32)\n",
    "        # initial memory state\n",
    "        memory = Question\n",
    "        # episodic memory\n",
    "                      \n",
    "        return 0\n",
    "    \n",
    "    def GRU_layer(self,num_units,num_layers,input_data):\n",
    "        cells = []\n",
    "        for _ in range(num_layers):\n",
    "            cell = tf.contrib.rnn.GRUCell(num_units)  # Or LSTMCell(num_units)\n",
    "            cells.append(cell)\n",
    "        cell = tf.contrib.rnn.MultiRNNCell(cells)\n",
    "        \n",
    "        return cell\n",
    "        \n",
    "    def scalar_gate_value(self,memory,question,concept,W_b,W_1,b_1,W_2,b_2):\n",
    "        \n",
    "        z_vector = tf.concat(concept,memory)\n",
    "        z_vector = tf.concat(z_vector,question)\n",
    "        z_vector = tf.concat(z_vector,tf.multiply(concept,question))\n",
    "        z_vector = tf.concat(z_vector,tf.multiply(concept,memory))\n",
    "        z_vector = tf.concat(z_vector,tf.subtract(concept-question))\n",
    "        z_vector = tf.concat(z_vector,tf.subtract(concept-memory))\n",
    "        z_vector = tf.concat(z_vector,tf.tensordot(concept,tf.matmul(W_b,question)))\n",
    "        z_vector = tf.concat(z_vector,tf.tensordot(concept,tf.matmul(W_b,memory)))\n",
    "        g_1 =  tf.nn.relu(tf.add(tf.matmul(W_1,z_vector),b_1))\n",
    "        g_scalar =  tf.nn.relu(tf.add(tf.matmul(W_2,g1),b_2))\n",
    "        \n",
    "        return g_scalar\n",
    "    \n",
    "    def episodic_memory(self,concepts,memory,question):\n",
    "        scalar_gated_values = []\n",
    "        for i in concepts:\n",
    "            scalar_gated_values.append(scalar_gate_value(memory,question,i))\n",
    "            \n",
    "        \n",
    "            \n",
    "        \n",
    "        \n",
    "        \n",
    "        \n",
    "        "
   ]
  },
  {
   "cell_type": "code",
   "execution_count": null,
   "metadata": {},
   "outputs": [],
   "source": []
  },
  {
   "cell_type": "code",
   "execution_count": 8,
   "metadata": {},
   "outputs": [],
   "source": [
    "# TextBlob(str(TextBlob(df_contxt['context'][1]).sentences[0])).words"
   ]
  },
  {
   "cell_type": "code",
   "execution_count": 9,
   "metadata": {},
   "outputs": [],
   "source": [
    "# df_contxt"
   ]
  },
  {
   "cell_type": "code",
   "execution_count": 10,
   "metadata": {},
   "outputs": [],
   "source": [
    "# df_qas"
   ]
  },
  {
   "cell_type": "code",
   "execution_count": 45,
   "metadata": {},
   "outputs": [],
   "source": [
    "def QA2V(context_no,question_no):\n",
    "    passage = TextBlob(df_contxt['context'][context_no])\n",
    "    question = TextBlob(df_qas['Question'][question_no])\n",
    "    if df_qas['is_impossible'][question_no]==False:\n",
    "        answer = TextBlob(df_qas['Answer_text'][question_no])\n",
    "        beginning = passage[:df_qas['Answer_start'][question_no]]\n",
    "        end = passage[df_qas['Answer_start'][question_no]+len(answer):]  # verified\n",
    "        \n",
    "        \n",
    "#         print(answer.words,'\\n',len(answer.words),'\\n',len(beginning.words),'\\n',len(end.words))\n",
    "    print(len(passage.words),'\\n',len(beginning.words),'\\n',len(answer.words),'\\n',len(end.words))\n",
    "        \n",
    "    "
   ]
  },
  {
   "cell_type": "code",
   "execution_count": 46,
   "metadata": {},
   "outputs": [
    {
     "name": "stdout",
     "output_type": "stream",
     "text": [
      "113 \n",
      " 39 \n",
      " 4 \n",
      " 70\n"
     ]
    }
   ],
   "source": [
    "QA2V(1,1)"
   ]
  },
  {
   "cell_type": "code",
   "execution_count": 2,
   "metadata": {},
   "outputs": [],
   "source": [
    "# TextBlob(str(TextBlob(df_contxt['context'][1]).sentences[0])+\" E-O-S\").words"
   ]
  },
  {
   "cell_type": "code",
   "execution_count": 6,
   "metadata": {},
   "outputs": [
    {
     "data": {
      "text/plain": [
       "array([ 5, 12, 21, 32])"
      ]
     },
     "execution_count": 6,
     "metadata": {},
     "output_type": "execute_result"
    }
   ],
   "source": [
    "x = np.array([1,2,3,4])\n",
    "y = np.array([5,6,7,8])\n",
    "x*y"
   ]
  },
  {
   "cell_type": "code",
   "execution_count": null,
   "metadata": {},
   "outputs": [],
   "source": []
  }
 ],
 "metadata": {
  "kernelspec": {
   "display_name": "Python 3",
   "language": "python",
   "name": "python3"
  },
  "language_info": {
   "codemirror_mode": {
    "name": "ipython",
    "version": 3
   },
   "file_extension": ".py",
   "mimetype": "text/x-python",
   "name": "python",
   "nbconvert_exporter": "python",
   "pygments_lexer": "ipython3",
   "version": "3.5.2"
  }
 },
 "nbformat": 4,
 "nbformat_minor": 2
}
