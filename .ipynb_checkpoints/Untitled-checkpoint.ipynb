{
 "cells": [
  {
   "cell_type": "code",
   "execution_count": null,
   "metadata": {},
   "outputs": [],
   "source": [
    "import tensorflow as tf\n",
    "C_1 = tf.constant(5.0)\n",
    "C_2 = tf.constant(1.0)\n",
    "C_3 = tf.constant(2.0)\n",
    "\n",
    "golden_ratio = (tf.sqrt(C_1) + C_2)/C_3\n",
    "\n",
    "with tf.Session() as sess:\n",
    "    writer = tf.summary.FileWriter('logs', sess.graph)\n",
    "    print sess.run(golden_ratio)\n",
    "    writer.close()"
   ]
  }
 ],
 "metadata": {
  "kernelspec": {
   "display_name": "Python 3",
   "language": "python",
   "name": "python3"
  }
 },
 "nbformat": 4,
 "nbformat_minor": 2
}
