{
 "cells": [
  {
   "cell_type": "code",
   "execution_count": 54,
   "metadata": {},
   "outputs": [],
   "source": [
    "import tensorflow as tf\n",
    "from gensim.models import Word2Vec\n",
    "import pandas as pd\n",
    "from textblob import TextBlob\n",
    "import numpy as np"
   ]
  },
  {
   "cell_type": "markdown",
   "metadata": {},
   "source": [
    "### Importing the word2vec models"
   ]
  },
  {
   "cell_type": "code",
   "execution_count": 2,
   "metadata": {},
   "outputs": [],
   "source": [
    "word_vec = Word2Vec.load('model.bin')    # word embedding\n",
    "char_vec = Word2Vec.load('model_c.bin')  # charector embedding"
   ]
  },
  {
   "cell_type": "markdown",
   "metadata": {},
   "source": [
    "### Importing the dataset"
   ]
  },
  {
   "cell_type": "code",
   "execution_count": 3,
   "metadata": {},
   "outputs": [],
   "source": [
    "df_contxt = pd.read_pickle('./input/squad_contxt.pkl') # context\n",
    "df_qas = pd.read_pickle('./input/squad_qas.pkl')       # question and answers"
   ]
  },
  {
   "cell_type": "markdown",
   "metadata": {},
   "source": [
    "###  Building the model"
   ]
  },
  {
   "cell_type": "code",
   "execution_count": 4,
   "metadata": {},
   "outputs": [],
   "source": [
    "class DMN_QA():\n",
    "    \"\"\"\n",
    "    the word vectors have size 100\n",
    "    the max no of words in a sentence is 120\n",
    "    the answers are fed as starting and ending of the span\n",
    "    \"\"\"\n",
    "    \n",
    "    def __init__(self):\n",
    "        self.MAX_WORD_NO = 120\n",
    "        self.WORD_VEC_LEN = 100\n",
    "    \n",
    "    def build(self):\n",
    "        # variables and placeholders\n",
    "        Passage = tf.placeholder(shape = (None,120,100))\n",
    "        Question = tf.placeholder(shape = (None,60,100))\n",
    "        Answer = tf.placeholder(shape=(None,2))     \n",
    "        \n",
    "        # model architecture\n",
    "        P_OUT,P_STATE = GRU_layer(num_units=100,num_layers=120)\n",
    "        Q_OUT,Q_STATE = GRU_layer(num_units=100,num_layers=60)\n",
    "               \n",
    "        return 0\n",
    "    \n",
    "    def GRU_layer(self,num_units,num_layers,input_data):\n",
    "#         dropout = tf.placeholder(tf.float32)\n",
    "\n",
    "        cells = []\n",
    "        for _ in range(num_layers):\n",
    "            cell = tf.contrib.rnn.GRUCell(num_units)  # Or LSTMCell(num_units)\n",
    "#             cell = tf.contrib.rnn.DropoutWrapper(cell, output_keep_prob=1.0 - dropout)\n",
    "            cells.append(cell)\n",
    "        cell = tf.contrib.rnn.MultiRNNCell(cells)\n",
    "        output, state = tf.nn.dynamic_rnn(cell, data, dtype=tf.float32)\n",
    "        \n",
    "        return output,state\n",
    "        \n",
    "        \n",
    "        "
   ]
  },
  {
   "cell_type": "markdown",
   "metadata": {},
   "source": [
    "### Preprocessing data"
   ]
  },
  {
   "cell_type": "code",
   "execution_count": 5,
   "metadata": {},
   "outputs": [],
   "source": [
    "class prep_data():\n",
    "    \"\"\"\n",
    "    \n",
    "    \"\"\"\n",
    "    def __init__(self,contxt = df_contxt,qas = df_qas,char_e = char_vec, word_e = word_vec):\n",
    "        \n",
    "        self.contxt = contxt\n",
    "        self.qas = qas\n",
    "        self.char_e = char_e\n",
    "        self.word_e = word_e\n",
    "        \n",
    "    def Q2vec(self):\n",
    "        pass\n",
    "        \n",
    "        "
   ]
  },
  {
   "cell_type": "code",
   "execution_count": 6,
   "metadata": {},
   "outputs": [
    {
     "data": {
      "text/plain": [
       "WordList(['Beyoncé', 'Giselle', 'Knowles-Carter', 'biːˈjɒnseɪ', 'bee-YON-say', 'born', 'September', '4', '1981', 'is', 'an', 'American', 'singer', 'songwriter', 'record', 'producer', 'and', 'actress'])"
      ]
     },
     "execution_count": 6,
     "metadata": {},
     "output_type": "execute_result"
    }
   ],
   "source": [
    "TextBlob(str(TextBlob(df_contxt['context'][1]).sentences[0])).words"
   ]
  },
  {
   "cell_type": "code",
   "execution_count": 7,
   "metadata": {},
   "outputs": [
    {
     "data": {
      "text/plain": [
       "'Beyoncé Giselle Knowles-Carter (/biːˈjɒnseɪ/ bee-YON-say) (born September 4, 1981) is an American singer, songwriter, record producer and actress. Born and raised in Houston, Texas, she performed in various singing and dancing competitions as a child, and rose to fame in the late 1990s as lead singer of R&B girl-group Destiny\\'s Child. Managed by her father, Mathew Knowles, the group became one of the world\\'s best-selling girl groups of all time. Their hiatus saw the release of Beyoncé\\'s debut album, Dangerously in Love (2003), which established her as a solo artist worldwide, earned five Grammy Awards and featured the Billboard Hot 100 number-one singles \"Crazy in Love\" and \"Baby Boy\".'"
      ]
     },
     "execution_count": 7,
     "metadata": {},
     "output_type": "execute_result"
    }
   ],
   "source": [
    "df_contxt['context'][1]"
   ]
  },
  {
   "cell_type": "code",
   "execution_count": 81,
   "metadata": {},
   "outputs": [],
   "source": [
    "def Q2V(passage,question,answer):\n",
    "    tb_p = TextBlob(passage)\n",
    "    tb_q = TextBlob(question)\n",
    "    tb_a = TextBlob(answer)\n",
    "    p2v = []\n",
    "    for i in tb_p.sentences:\n",
    "        words = TextBlob(str(i)).words\n",
    "        s2v = []\n",
    "        for j in words:\n",
    "            s2v.append(list(word_vec[j]))\n",
    "        p2v.append(s2v)\n",
    "    print(len(p2v[3]),\"\\n\\n\",tb_q.sentences,\"\\n\\n\",tb_a.sentences)\n",
    "    \n",
    "    "
   ]
  },
  {
   "cell_type": "code",
   "execution_count": 82,
   "metadata": {},
   "outputs": [
    {
     "name": "stdout",
     "output_type": "stream",
     "text": [
      "40 \n",
      "\n",
      " [Sentence(\"When did Beyonce start becoming popular?\")] \n",
      "\n",
      " [Sentence(\"in the late 1990s\")]\n"
     ]
    }
   ],
   "source": [
    "Q2V(df_contxt['context'][1],df_qas['Question'][1],df_qas['Answer_text'][1])"
   ]
  },
  {
   "cell_type": "code",
   "execution_count": null,
   "metadata": {},
   "outputs": [],
   "source": []
  },
  {
   "cell_type": "code",
   "execution_count": null,
   "metadata": {},
   "outputs": [],
   "source": []
  }
 ],
 "metadata": {
  "kernelspec": {
   "display_name": "Python 3",
   "language": "python",
   "name": "python3"
  },
  "language_info": {
   "codemirror_mode": {
    "name": "ipython",
    "version": 3
   },
   "file_extension": ".py",
   "mimetype": "text/x-python",
   "name": "python",
   "nbconvert_exporter": "python",
   "pygments_lexer": "ipython3",
   "version": "3.5.2"
  }
 },
 "nbformat": 4,
 "nbformat_minor": 2
}
