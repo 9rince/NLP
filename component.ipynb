{
 "cells": [
  {
   "cell_type": "code",
   "execution_count": 5,
   "metadata": {},
   "outputs": [],
   "source": [
    "import tensorflow as tf\n",
    "import numpy as np"
   ]
  },
  {
   "cell_type": "code",
   "execution_count": 2,
   "metadata": {},
   "outputs": [],
   "source": [
    "def mod_GRU(cell,scalar,vectors):\n",
    "    for i in range(len(vectors)):\n",
    "        v_pop = vectors[-i]\n",
    "        vectors = vectors[:-i]"
   ]
  },
  {
   "cell_type": "code",
   "execution_count": 9,
   "metadata": {},
   "outputs": [],
   "source": [
    "tf.reset_default_graph()\n",
    "e_vectors = tf.placeholder(dtype=tf.float32)\n",
    "\n",
    "with tf.Session() as sess:\n",
    "    sess.run(tf.global_variables_initializer())\n",
    "    feed_dict = {e_vectors : np.random.random(size = (100))}\n",
    "    \n",
    "    e_value = sess.run(e_vectors,feed_dict)\n"
   ]
  },
  {
   "cell_type": "code",
   "execution_count": 10,
   "metadata": {},
   "outputs": [
    {
     "data": {
      "text/plain": [
       "array([0.36424622, 0.11821485, 0.5050857 , 0.7075656 , 0.3692795 ,\n",
       "       0.2816568 , 0.9011309 , 0.9752896 , 0.8905625 , 0.87559897,\n",
       "       0.8576334 , 0.47331738, 0.63786215, 0.0749699 , 0.88751346,\n",
       "       0.7684763 , 0.09469507, 0.97937804, 0.14313139, 0.64184225,\n",
       "       0.00849002, 0.38027877, 0.386927  , 0.19850941, 0.78063214,\n",
       "       0.7442576 , 0.4696482 , 0.6447481 , 0.60504675, 0.4611644 ,\n",
       "       0.0089675 , 0.0970749 , 0.33415887, 0.84894526, 0.93299574,\n",
       "       0.4956953 , 0.9586829 , 0.24004206, 0.20586495, 0.5055605 ,\n",
       "       0.34949324, 0.95613265, 0.554815  , 0.8266099 , 0.6279638 ,\n",
       "       0.94219184, 0.3302103 , 0.41558295, 0.46668544, 0.13794674,\n",
       "       0.32613117, 0.25548083, 0.55044734, 0.21604387, 0.58631575,\n",
       "       0.32502955, 0.4236722 , 0.64721596, 0.681444  , 0.9027589 ,\n",
       "       0.856554  , 0.35622567, 0.68252426, 0.75183755, 0.05472459,\n",
       "       0.06836002, 0.25538346, 0.384518  , 0.83962935, 0.585029  ,\n",
       "       0.20146157, 0.31481233, 0.90332335, 0.25684386, 0.48669505,\n",
       "       0.00958121, 0.47797325, 0.4364111 , 0.32296664, 0.83988434,\n",
       "       0.6077717 , 0.8832472 , 0.16958162, 0.722334  , 0.7004747 ,\n",
       "       0.20223136, 0.9145214 , 0.4193378 , 0.3062164 , 0.00848926,\n",
       "       0.00214718, 0.28855085, 0.611291  , 0.57989436, 0.5777436 ,\n",
       "       0.2345845 , 0.93321496, 0.23371592, 0.6905096 , 0.34696892],\n",
       "      dtype=float32)"
      ]
     },
     "execution_count": 10,
     "metadata": {},
     "output_type": "execute_result"
    }
   ],
   "source": [
    "e_value"
   ]
  },
  {
   "cell_type": "code",
   "execution_count": 29,
   "metadata": {},
   "outputs": [
    {
     "name": "stdout",
     "output_type": "stream",
     "text": [
      "2 7\n",
      "3 6\n",
      "4 5\n",
      "4 5\n",
      "3 6\n",
      "2 7\n",
      "[1, 2, 3, 4, 5, 6, 7]\n"
     ]
    }
   ],
   "source": [
    "x = [1,2,3,4,5,6,7]#np.random.random(size=(10,2))\n",
    "for i in range(1,len(x)):\n",
    "    print(x[i],x[-i])\n",
    "    x[i],x[-i] = x[-i],x[i]\n",
    "print(x)\n",
    "#     print(x[:-i],'cropped {}'.format(x[-i]))"
   ]
  },
  {
   "cell_type": "code",
   "execution_count": null,
   "metadata": {},
   "outputs": [],
   "source": []
  }
 ],
 "metadata": {
  "kernelspec": {
   "display_name": "Python 3",
   "language": "python",
   "name": "python3"
  },
  "language_info": {
   "codemirror_mode": {
    "name": "ipython",
    "version": 3
   },
   "file_extension": ".py",
   "mimetype": "text/x-python",
   "name": "python",
   "nbconvert_exporter": "python",
   "pygments_lexer": "ipython3",
   "version": "3.5.2"
  }
 },
 "nbformat": 4,
 "nbformat_minor": 2
}
