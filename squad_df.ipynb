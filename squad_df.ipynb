{
 "cells": [
  {
   "cell_type": "code",
   "execution_count": 1,
   "metadata": {},
   "outputs": [
    {
     "name": "stdout",
     "output_type": "stream",
     "text": [
      "['.ipynb_checkpoints', 'squad_contxt.pkl', 'squad_qas.pkl', 'train-v2.0.json']\n"
     ]
    }
   ],
   "source": [
    "import numpy as np # linear algebra\n",
    "\n",
    "import os\n",
    "\n",
    "import pandas as pd\n",
    "from tqdm import tqdm\n",
    "print(os.listdir(\"./input\"))"
   ]
  },
  {
   "cell_type": "code",
   "execution_count": 34,
   "metadata": {},
   "outputs": [],
   "source": [
    "# context,Question,Answer = josn_DF()"
   ]
  },
  {
   "cell_type": "code",
   "execution_count": 35,
   "metadata": {},
   "outputs": [],
   "source": [
    "# Question.head()"
   ]
  },
  {
   "cell_type": "code",
   "execution_count": 2,
   "metadata": {},
   "outputs": [],
   "source": [
    "import json\n",
    "with open(\"./input/train-v2.0.json\") as input_file:    \n",
    "    json_data = json.load(input_file)"
   ]
  },
  {
   "cell_type": "code",
   "execution_count": 8,
   "metadata": {},
   "outputs": [
    {
     "data": {
      "text/plain": [
       "dict_keys(['version', 'data'])"
      ]
     },
     "execution_count": 8,
     "metadata": {},
     "output_type": "execute_result"
    }
   ],
   "source": [
    "# json_data.keys()"
   ]
  },
  {
   "cell_type": "code",
   "execution_count": 9,
   "metadata": {},
   "outputs": [
    {
     "data": {
      "text/plain": [
       "dict_keys(['title', 'paragraphs'])"
      ]
     },
     "execution_count": 9,
     "metadata": {},
     "output_type": "execute_result"
    }
   ],
   "source": [
    "# json_data['data'][0].keys()"
   ]
  },
  {
   "cell_type": "code",
   "execution_count": 3,
   "metadata": {},
   "outputs": [],
   "source": [
    "Context = pd.DataFrame(columns=['title', 'title_no' , 'context_no' , 'context' ])\n",
    "Question = pd.DataFrame(columns=['title_no', 'context_no', 'q_no','q_id', 'Question','Answer_text','Answer_start','is_impossible'])\n",
    "Answer = pd.DataFrame(columns=['id','qID','cID','Answer'])\n",
    "squad_df = pd.DataFrame(columns=['id', 'title' , 'context' ])\n"
   ]
  },
  {
   "cell_type": "code",
   "execution_count": 4,
   "metadata": {},
   "outputs": [
    {
     "name": "stderr",
     "output_type": "stream",
     "text": [
      "100%|██████████████████████████████████████████████████████████████████████████████| 442/442 [1:19:30<00:00, 18.44s/it]\n"
     ]
    }
   ],
   "source": [
    "\n",
    "t_tracker = 1\n",
    "p_tracker = 1\n",
    "q_tracker = 1\n",
    "for i in tqdm(json_data['data']):\n",
    "    title = i['title']\n",
    "#     print(t_tracker,\"|\",title)\n",
    "    for j in i['paragraphs']:\n",
    "        para = j['context']\n",
    "        Context.loc[p_tracker] = [title,t_tracker,p_tracker,para]\n",
    "        for k in j['qas']:\n",
    "            if not k['answers']:\n",
    "                is_impossible = k['is_impossible']\n",
    "                question = k['question']\n",
    "                q_id = k['id']\n",
    "                Question.loc[q_tracker] = [t_tracker,p_tracker,q_tracker,q_id,question,'N/A','N/A',is_impossible]\n",
    "            else:\n",
    "                answer_text = k['answers'][0]['text']\n",
    "                answer_start = k['answers'][0]['answer_start']\n",
    "                is_impossible = k['is_impossible']\n",
    "                question = k['question']\n",
    "                q_id = k['id']\n",
    "                Question.loc[q_tracker] = [t_tracker,p_tracker,q_tracker,q_id,question,answer_text,answer_start,is_impossible]\n",
    "\n",
    "            q_tracker += 1\n",
    "        p_tracker += 1\n",
    "    t_tracker += 1\n"
   ]
  },
  {
   "cell_type": "code",
   "execution_count": 2,
   "metadata": {},
   "outputs": [
    {
     "ename": "NameError",
     "evalue": "name 'Context' is not defined",
     "output_type": "error",
     "traceback": [
      "\u001b[1;31m---------------------------------------------------------------------------\u001b[0m",
      "\u001b[1;31mNameError\u001b[0m                                 Traceback (most recent call last)",
      "\u001b[1;32m<ipython-input-2-28a597fa1cbf>\u001b[0m in \u001b[0;36m<module>\u001b[1;34m\u001b[0m\n\u001b[1;32m----> 1\u001b[1;33m \u001b[0mContext\u001b[0m\u001b[1;33m.\u001b[0m\u001b[0mto_pickle\u001b[0m\u001b[1;33m(\u001b[0m\u001b[1;34m'./input/squad_contxt.pkl'\u001b[0m\u001b[1;33m)\u001b[0m\u001b[1;33m\u001b[0m\u001b[0m\n\u001b[0m",
      "\u001b[1;31mNameError\u001b[0m: name 'Context' is not defined"
     ]
    }
   ],
   "source": [
    "# Context.to_pickle('./input/squad_contxt.pkl')"
   ]
  },
  {
   "cell_type": "code",
   "execution_count": 22,
   "metadata": {},
   "outputs": [],
   "source": [
    "Question.to_pickle('./input/squad_qas.pkl')"
   ]
  },
  {
   "cell_type": "code",
   "execution_count": 5,
   "metadata": {},
   "outputs": [],
   "source": [
    "df_1 = pd.read_pickle('./input/squad_contxt.pkl')"
   ]
  },
  {
   "cell_type": "code",
   "execution_count": null,
   "metadata": {},
   "outputs": [],
   "source": []
  },
  {
   "cell_type": "code",
   "execution_count": null,
   "metadata": {},
   "outputs": [],
   "source": []
  }
 ],
 "metadata": {
  "kernelspec": {
   "display_name": "Python 3",
   "language": "python",
   "name": "python3"
  },
  "language_info": {
   "codemirror_mode": {
    "name": "ipython",
    "version": 3
   },
   "file_extension": ".py",
   "mimetype": "text/x-python",
   "name": "python",
   "nbconvert_exporter": "python",
   "pygments_lexer": "ipython3",
   "version": "3.5.2"
  }
 },
 "nbformat": 4,
 "nbformat_minor": 2
}
