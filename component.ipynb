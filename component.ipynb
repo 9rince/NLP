{
 "cells": [
  {
   "cell_type": "code",
   "execution_count": 2,
   "metadata": {},
   "outputs": [],
   "source": [
    "import tensorflow as tf\n",
    "import numpy as np"
   ]
  },
  {
   "cell_type": "code",
   "execution_count": 6,
   "metadata": {},
   "outputs": [],
   "source": [
    "class modified_gru():\n",
    "    \"\"\"\n",
    "        It's a modified version of normal GRU\n",
    "    \"\"\"\n",
    "    def __init__(self,time_steps,init_state,scalar_values,input_size,\n",
    "                 output_size,final_mem,question,input_seq=None):\n",
    "        \n",
    "        # inputs required for sequential memory vectors e_i \n",
    "        self.time_steps = time_steps              # equal to max no concepts\n",
    "        self.init_state = init_state              # initial secondary input ideally zero tensor\n",
    "        self.input_seq = input_seq                # input seq to be evaluated\n",
    "        self.scalar_values = scalar_values        # gated scalar values \n",
    "        self.input_size = input_size              # size of input vector \n",
    "        self.output_size = output_size            # size of output required\n",
    "        \n",
    "        # inputs required for Answer modules\n",
    "        self.question = question\n",
    "        self.final_mem = final_mem\n",
    "        self.word_weight = tf.get_variable(\"word_w\",[output_size,output_size],dtype=tf.float64)\n",
    "        self.word_bias = tf.get_variable(\"word_b\",[output_size,1],dtype=tf.float64)\n",
    "#         self.init_word = init_word          # should be ideally a zero vector\n",
    "        \n",
    "        # parameters of gru\n",
    "        self.W_z,self.W_r,self.W_h = tf.get_variable(\"update_w\",[output_size,input_size],dtype=tf.float64),tf.get_variable(\"reset_w\",[output_size,input_size],dtype=tf.float64),tf.get_variable(\"out_w\",[output_size,input_size],dtype=tf.float64)\n",
    "        self.U_z,self.U_r,self.U_h = tf.get_variable(\"update_u\",[output_size,output_size],dtype=tf.float64),tf.get_variable(\"reset_u\",[output_size,output_size],dtype=tf.float64),tf.get_variable(\"out_u\",[output_size,output_size],dtype=tf.float64)\n",
    "        self.b_z,self.b_r,self.b_h = tf.get_variable(\"update_b\",[output_size,1],dtype=tf.float64),tf.get_variable(\"reset_b\",[output_size,1],dtype=tf.float64),tf.get_variable(\"out_b\",[output_size,1],dtype=tf.float64)\n",
    "    \"\"\"\n",
    "    right now its a normal gru !!!\n",
    "    You need to change the the output !!!\n",
    "    \"\"\"\n",
    "    def mod_gru_unit(self,h_prev,steps,out=[]):\n",
    "        index = steps - self.time_steps \n",
    "        input_vector = self.input_seq[index]\n",
    "        # operations\n",
    "        z_t = tf.nn.sigmoid(tf.matmul(self.W_z,input_vector)+tf.matmul(self.U_z,h_prev)+self.b_z,name=\"matmul_2\")\n",
    "        r_t = tf.nn.sigmoid(tf.matmul(self.W_r,input_vector)+tf.matmul(self.U_r,h_prev)+self.b_r)\n",
    "        h_t = tf.multiply(z_t,h_prev)+tf.multiply(1.-z_t,tf.nn.sigmoid(tf.matmul(self.W_h,input_vector)+tf.matmul(self.U_h,tf.multiply(r_t,h_prev))+self.b_h))\n",
    "        h_t = (self.scalar_values[index]*h_t) + ((1-self.scalar_values[index])*h_prev)\n",
    "        out.append(h_t)\n",
    "        self.time_steps -= 1\n",
    "        if self.time_steps == 0:\n",
    "            return(out)\n",
    "        else:\n",
    "            return self.mod_gru_unit(h_prev = h_t,out = out,steps = steps) \n",
    "        \n",
    "    def answer_gru_unit(self,h_prev,word_prev,steps,out=[]):\n",
    "        index = steps - self.time_steps \n",
    "#         print(np.shape(word_prev),np.shape(self.question))\n",
    "        input_vector = tf.concat([word_prev,self.question],axis=0)\n",
    "        # operations\n",
    "        z_t = tf.nn.sigmoid(tf.matmul(self.W_z,input_vector,name = 'matmul_1')+tf.matmul(self.U_z,h_prev)+self.b_z)\n",
    "        r_t = tf.nn.sigmoid(tf.matmul(self.W_r,input_vector)+tf.matmul(self.U_r,h_prev)+self.b_r)\n",
    "        h_t = tf.multiply(z_t,h_prev)+tf.multiply(1.-z_t,tf.nn.sigmoid(tf.matmul(self.W_h,input_vector)+tf.matmul(self.U_h,tf.multiply(r_t,h_prev))+self.b_h))\n",
    "        word_pred = tf.nn.softmax(tf.matmul(self.word_weight,h_t)+self.word_bias)\n",
    "#         print(h_t)\n",
    "#         print(word_pred)\n",
    "        out.append(word_pred)\n",
    "        self.time_steps -= 1\n",
    "        if self.time_steps == 0:\n",
    "            return(out)\n",
    "        else:\n",
    "            return self.answer_gru_unit(h_prev = h_t,word_prev = word_pred,out = out,steps = steps) \n",
    "    \n",
    "       "
   ]
  },
  {
   "cell_type": "code",
   "execution_count": 7,
   "metadata": {},
   "outputs": [
    {
     "data": {
      "text/plain": [
       "[<tf.Tensor 'Softmax:0' shape=(20, 1) dtype=float64>,\n",
       " <tf.Tensor 'Softmax_1:0' shape=(20, 1) dtype=float64>,\n",
       " <tf.Tensor 'Softmax_2:0' shape=(20, 1) dtype=float64>,\n",
       " <tf.Tensor 'Softmax_3:0' shape=(20, 1) dtype=float64>,\n",
       " <tf.Tensor 'Softmax_4:0' shape=(20, 1) dtype=float64>,\n",
       " <tf.Tensor 'Softmax_5:0' shape=(20, 1) dtype=float64>,\n",
       " <tf.Tensor 'Softmax_6:0' shape=(20, 1) dtype=float64>,\n",
       " <tf.Tensor 'Softmax_7:0' shape=(20, 1) dtype=float64>,\n",
       " <tf.Tensor 'Softmax_8:0' shape=(20, 1) dtype=float64>,\n",
       " <tf.Tensor 'Softmax_9:0' shape=(20, 1) dtype=float64>]"
      ]
     },
     "execution_count": 7,
     "metadata": {},
     "output_type": "execute_result"
    }
   ],
   "source": [
    "tf.reset_default_graph()\n",
    "gru = modified_gru(time_steps = 10,\n",
    "                   init_state = np.random.random(size=(20,1)),\n",
    "                   input_seq = np.random.random(size=(10,40,1)),\n",
    "                   scalar_values = np.random.random(size=(10,1)),\n",
    "                   input_size = 40,\n",
    "                   output_size = 20,\n",
    "                   question = np.random.random(size=(20,1)),\n",
    "                   final_mem = np.random.random(size=(20,1)))\n",
    "gru.answer_gru_unit(h_prev=np.random.random(size=(20,1)),\n",
    "                    word_prev = gru.init_state,\n",
    "                    steps = gru.time_steps)"
   ]
  },
  {
   "cell_type": "code",
   "execution_count": 8,
   "metadata": {},
   "outputs": [
    {
     "data": {
      "text/plain": [
       "[<tf.Tensor 'add_7:0' shape=(20, 1) dtype=float64>,\n",
       " <tf.Tensor 'add_15:0' shape=(20, 1) dtype=float64>,\n",
       " <tf.Tensor 'add_23:0' shape=(20, 1) dtype=float64>,\n",
       " <tf.Tensor 'add_31:0' shape=(20, 1) dtype=float64>,\n",
       " <tf.Tensor 'add_39:0' shape=(20, 1) dtype=float64>,\n",
       " <tf.Tensor 'add_47:0' shape=(20, 1) dtype=float64>,\n",
       " <tf.Tensor 'add_55:0' shape=(20, 1) dtype=float64>,\n",
       " <tf.Tensor 'add_63:0' shape=(20, 1) dtype=float64>,\n",
       " <tf.Tensor 'add_71:0' shape=(20, 1) dtype=float64>,\n",
       " <tf.Tensor 'add_79:0' shape=(20, 1) dtype=float64>]"
      ]
     },
     "execution_count": 8,
     "metadata": {},
     "output_type": "execute_result"
    }
   ],
   "source": [
    "tf.reset_default_graph()\n",
    "gru = modified_gru(time_steps = 10,\n",
    "                   init_state = np.random.random(size=(20,1)),\n",
    "                   input_seq = np.random.random(size=(10,20,1)),\n",
    "                   scalar_values = np.random.random(size=(10,1)),\n",
    "                   input_size = 20,\n",
    "                   output_size = 20,\n",
    "                   question = np.random.random(size=(20,1)),\n",
    "                   final_mem = np.random.random(size=(20,1)))\n",
    "gru.mod_gru_unit(steps = gru.time_steps,h_prev=gru.init_state)"
   ]
  },
  {
   "cell_type": "code",
   "execution_count": null,
   "metadata": {},
   "outputs": [],
   "source": []
  },
  {
   "cell_type": "code",
   "execution_count": 64,
   "metadata": {},
   "outputs": [
    {
     "ename": "FailedPreconditionError",
     "evalue": "Attempting to use uninitialized value cudnn_gru_9/opaque_kernel\n\t [[Node: cudnn_gru_9/opaque_kernel/read = Identity[T=DT_FLOAT, _device=\"/job:localhost/replica:0/task:0/device:GPU:0\"](cudnn_gru_9/opaque_kernel)]]\n\nCaused by op 'cudnn_gru_9/opaque_kernel/read', defined at:\n  File \"c:\\users\\princ3\\anaconda3\\envs\\tfconda\\lib\\runpy.py\", line 184, in _run_module_as_main\n    \"__main__\", mod_spec)\n  File \"c:\\users\\princ3\\anaconda3\\envs\\tfconda\\lib\\runpy.py\", line 85, in _run_code\n    exec(code, run_globals)\n  File \"c:\\users\\princ3\\anaconda3\\envs\\tfconda\\lib\\site-packages\\ipykernel_launcher.py\", line 16, in <module>\n    app.launch_new_instance()\n  File \"c:\\users\\princ3\\anaconda3\\envs\\tfconda\\lib\\site-packages\\traitlets\\config\\application.py\", line 658, in launch_instance\n    app.start()\n  File \"c:\\users\\princ3\\anaconda3\\envs\\tfconda\\lib\\site-packages\\ipykernel\\kernelapp.py\", line 505, in start\n    self.io_loop.start()\n  File \"c:\\users\\princ3\\anaconda3\\envs\\tfconda\\lib\\site-packages\\tornado\\platform\\asyncio.py\", line 132, in start\n    self.asyncio_loop.run_forever()\n  File \"c:\\users\\princ3\\anaconda3\\envs\\tfconda\\lib\\asyncio\\base_events.py\", line 345, in run_forever\n    self._run_once()\n  File \"c:\\users\\princ3\\anaconda3\\envs\\tfconda\\lib\\asyncio\\base_events.py\", line 1312, in _run_once\n    handle._run()\n  File \"c:\\users\\princ3\\anaconda3\\envs\\tfconda\\lib\\asyncio\\events.py\", line 125, in _run\n    self._callback(*self._args)\n  File \"c:\\users\\princ3\\anaconda3\\envs\\tfconda\\lib\\site-packages\\tornado\\ioloop.py\", line 758, in _run_callback\n    ret = callback()\n  File \"c:\\users\\princ3\\anaconda3\\envs\\tfconda\\lib\\site-packages\\tornado\\stack_context.py\", line 300, in null_wrapper\n    return fn(*args, **kwargs)\n  File \"c:\\users\\princ3\\anaconda3\\envs\\tfconda\\lib\\site-packages\\tornado\\gen.py\", line 1233, in inner\n    self.run()\n  File \"c:\\users\\princ3\\anaconda3\\envs\\tfconda\\lib\\site-packages\\tornado\\gen.py\", line 1147, in run\n    yielded = self.gen.send(value)\n  File \"c:\\users\\princ3\\anaconda3\\envs\\tfconda\\lib\\site-packages\\ipykernel\\kernelbase.py\", line 357, in process_one\n    yield gen.maybe_future(dispatch(*args))\n  File \"c:\\users\\princ3\\anaconda3\\envs\\tfconda\\lib\\site-packages\\tornado\\gen.py\", line 326, in wrapper\n    yielded = next(result)\n  File \"c:\\users\\princ3\\anaconda3\\envs\\tfconda\\lib\\site-packages\\ipykernel\\kernelbase.py\", line 267, in dispatch_shell\n    yield gen.maybe_future(handler(stream, idents, msg))\n  File \"c:\\users\\princ3\\anaconda3\\envs\\tfconda\\lib\\site-packages\\tornado\\gen.py\", line 326, in wrapper\n    yielded = next(result)\n  File \"c:\\users\\princ3\\anaconda3\\envs\\tfconda\\lib\\site-packages\\ipykernel\\kernelbase.py\", line 534, in execute_request\n    user_expressions, allow_stdin,\n  File \"c:\\users\\princ3\\anaconda3\\envs\\tfconda\\lib\\site-packages\\tornado\\gen.py\", line 326, in wrapper\n    yielded = next(result)\n  File \"c:\\users\\princ3\\anaconda3\\envs\\tfconda\\lib\\site-packages\\ipykernel\\ipkernel.py\", line 294, in do_execute\n    res = shell.run_cell(code, store_history=store_history, silent=silent)\n  File \"c:\\users\\princ3\\anaconda3\\envs\\tfconda\\lib\\site-packages\\ipykernel\\zmqshell.py\", line 536, in run_cell\n    return super(ZMQInteractiveShell, self).run_cell(*args, **kwargs)\n  File \"c:\\users\\princ3\\anaconda3\\envs\\tfconda\\lib\\site-packages\\IPython\\core\\interactiveshell.py\", line 2819, in run_cell\n    raw_cell, store_history, silent, shell_futures)\n  File \"c:\\users\\princ3\\anaconda3\\envs\\tfconda\\lib\\site-packages\\IPython\\core\\interactiveshell.py\", line 2845, in _run_cell\n    return runner(coro)\n  File \"c:\\users\\princ3\\anaconda3\\envs\\tfconda\\lib\\site-packages\\IPython\\core\\async_helpers.py\", line 67, in _pseudo_sync_runner\n    coro.send(None)\n  File \"c:\\users\\princ3\\anaconda3\\envs\\tfconda\\lib\\site-packages\\IPython\\core\\interactiveshell.py\", line 3020, in run_cell_async\n    interactivity=interactivity, compiler=compiler, result=result)\n  File \"c:\\users\\princ3\\anaconda3\\envs\\tfconda\\lib\\site-packages\\IPython\\core\\interactiveshell.py\", line 3185, in run_ast_nodes\n    if (yield from self.run_code(code, result)):\n  File \"c:\\users\\princ3\\anaconda3\\envs\\tfconda\\lib\\site-packages\\IPython\\core\\interactiveshell.py\", line 3267, in run_code\n    exec(code_obj, self.user_global_ns, self.user_ns)\n  File \"<ipython-input-64-6e8c3c8ac102>\", line 5, in <module>\n    rnn_output = rnn(x)\n  File \"c:\\users\\princ3\\anaconda3\\envs\\tfconda\\lib\\site-packages\\tensorflow\\python\\layers\\base.py\", line 362, in __call__\n    outputs = super(Layer, self).__call__(inputs, *args, **kwargs)\n  File \"c:\\users\\princ3\\anaconda3\\envs\\tfconda\\lib\\site-packages\\tensorflow\\python\\keras\\engine\\base_layer.py\", line 728, in __call__\n    self.build(input_shapes)\n  File \"c:\\users\\princ3\\anaconda3\\envs\\tfconda\\lib\\site-packages\\tensorflow\\contrib\\cudnn_rnn\\python\\layers\\cudnn_rnn.py\", line 362, in build\n    initializer=opaque_params_t, validate_shape=False)\n  File \"c:\\users\\princ3\\anaconda3\\envs\\tfconda\\lib\\site-packages\\tensorflow\\python\\ops\\variable_scope.py\", line 1467, in get_variable\n    aggregation=aggregation)\n  File \"c:\\users\\princ3\\anaconda3\\envs\\tfconda\\lib\\site-packages\\tensorflow\\python\\ops\\variable_scope.py\", line 1217, in get_variable\n    aggregation=aggregation)\n  File \"c:\\users\\princ3\\anaconda3\\envs\\tfconda\\lib\\site-packages\\tensorflow\\python\\ops\\variable_scope.py\", line 510, in get_variable\n    return custom_getter(**custom_getter_kwargs)\n  File \"c:\\users\\princ3\\anaconda3\\envs\\tfconda\\lib\\site-packages\\tensorflow\\contrib\\cudnn_rnn\\python\\layers\\cudnn_rnn.py\", line 294, in _update_trainable_weights\n    variable = getter(*args, **kwargs)\n  File \"c:\\users\\princ3\\anaconda3\\envs\\tfconda\\lib\\site-packages\\tensorflow\\python\\ops\\variable_scope.py\", line 481, in _true_getter\n    aggregation=aggregation)\n  File \"c:\\users\\princ3\\anaconda3\\envs\\tfconda\\lib\\site-packages\\tensorflow\\python\\ops\\variable_scope.py\", line 903, in _get_single_variable\n    aggregation=aggregation)\n  File \"c:\\users\\princ3\\anaconda3\\envs\\tfconda\\lib\\site-packages\\tensorflow\\python\\ops\\variable_scope.py\", line 2443, in variable\n    aggregation=aggregation)\n  File \"c:\\users\\princ3\\anaconda3\\envs\\tfconda\\lib\\site-packages\\tensorflow\\python\\ops\\variable_scope.py\", line 2425, in <lambda>\n    previous_getter = lambda **kwargs: default_variable_creator(None, **kwargs)\n  File \"c:\\users\\princ3\\anaconda3\\envs\\tfconda\\lib\\site-packages\\tensorflow\\python\\ops\\variable_scope.py\", line 2406, in default_variable_creator\n    constraint=constraint)\n  File \"c:\\users\\princ3\\anaconda3\\envs\\tfconda\\lib\\site-packages\\tensorflow\\python\\ops\\variables.py\", line 259, in __init__\n    constraint=constraint)\n  File \"c:\\users\\princ3\\anaconda3\\envs\\tfconda\\lib\\site-packages\\tensorflow\\python\\ops\\variables.py\", line 422, in _init_from_args\n    self._snapshot = array_ops.identity(self._variable, name=\"read\")\n  File \"c:\\users\\princ3\\anaconda3\\envs\\tfconda\\lib\\site-packages\\tensorflow\\python\\ops\\array_ops.py\", line 80, in identity\n    return gen_array_ops.identity(input, name=name)\n  File \"c:\\users\\princ3\\anaconda3\\envs\\tfconda\\lib\\site-packages\\tensorflow\\python\\ops\\gen_array_ops.py\", line 3264, in identity\n    \"Identity\", input=input, name=name)\n  File \"c:\\users\\princ3\\anaconda3\\envs\\tfconda\\lib\\site-packages\\tensorflow\\python\\framework\\op_def_library.py\", line 787, in _apply_op_helper\n    op_def=op_def)\n  File \"c:\\users\\princ3\\anaconda3\\envs\\tfconda\\lib\\site-packages\\tensorflow\\python\\util\\deprecation.py\", line 454, in new_func\n    return func(*args, **kwargs)\n  File \"c:\\users\\princ3\\anaconda3\\envs\\tfconda\\lib\\site-packages\\tensorflow\\python\\framework\\ops.py\", line 3155, in create_op\n    op_def=op_def)\n  File \"c:\\users\\princ3\\anaconda3\\envs\\tfconda\\lib\\site-packages\\tensorflow\\python\\framework\\ops.py\", line 1717, in __init__\n    self._traceback = tf_stack.extract_stack()\n\nFailedPreconditionError (see above for traceback): Attempting to use uninitialized value cudnn_gru_9/opaque_kernel\n\t [[Node: cudnn_gru_9/opaque_kernel/read = Identity[T=DT_FLOAT, _device=\"/job:localhost/replica:0/task:0/device:GPU:0\"](cudnn_gru_9/opaque_kernel)]]\n",
     "output_type": "error",
     "traceback": [
      "\u001b[1;31m---------------------------------------------------------------------------\u001b[0m",
      "\u001b[1;31mFailedPreconditionError\u001b[0m                   Traceback (most recent call last)",
      "\u001b[1;32mc:\\users\\princ3\\anaconda3\\envs\\tfconda\\lib\\site-packages\\tensorflow\\python\\client\\session.py\u001b[0m in \u001b[0;36m_do_call\u001b[1;34m(self, fn, *args)\u001b[0m\n\u001b[0;32m   1277\u001b[0m     \u001b[1;32mtry\u001b[0m\u001b[1;33m:\u001b[0m\u001b[1;33m\u001b[0m\u001b[0m\n\u001b[1;32m-> 1278\u001b[1;33m       \u001b[1;32mreturn\u001b[0m \u001b[0mfn\u001b[0m\u001b[1;33m(\u001b[0m\u001b[1;33m*\u001b[0m\u001b[0margs\u001b[0m\u001b[1;33m)\u001b[0m\u001b[1;33m\u001b[0m\u001b[0m\n\u001b[0m\u001b[0;32m   1279\u001b[0m     \u001b[1;32mexcept\u001b[0m \u001b[0merrors\u001b[0m\u001b[1;33m.\u001b[0m\u001b[0mOpError\u001b[0m \u001b[1;32mas\u001b[0m \u001b[0me\u001b[0m\u001b[1;33m:\u001b[0m\u001b[1;33m\u001b[0m\u001b[0m\n",
      "\u001b[1;32mc:\\users\\princ3\\anaconda3\\envs\\tfconda\\lib\\site-packages\\tensorflow\\python\\client\\session.py\u001b[0m in \u001b[0;36m_run_fn\u001b[1;34m(feed_dict, fetch_list, target_list, options, run_metadata)\u001b[0m\n\u001b[0;32m   1262\u001b[0m       return self._call_tf_sessionrun(\n\u001b[1;32m-> 1263\u001b[1;33m           options, feed_dict, fetch_list, target_list, run_metadata)\n\u001b[0m\u001b[0;32m   1264\u001b[0m \u001b[1;33m\u001b[0m\u001b[0m\n",
      "\u001b[1;32mc:\\users\\princ3\\anaconda3\\envs\\tfconda\\lib\\site-packages\\tensorflow\\python\\client\\session.py\u001b[0m in \u001b[0;36m_call_tf_sessionrun\u001b[1;34m(self, options, feed_dict, fetch_list, target_list, run_metadata)\u001b[0m\n\u001b[0;32m   1349\u001b[0m         \u001b[0mself\u001b[0m\u001b[1;33m.\u001b[0m\u001b[0m_session\u001b[0m\u001b[1;33m,\u001b[0m \u001b[0moptions\u001b[0m\u001b[1;33m,\u001b[0m \u001b[0mfeed_dict\u001b[0m\u001b[1;33m,\u001b[0m \u001b[0mfetch_list\u001b[0m\u001b[1;33m,\u001b[0m \u001b[0mtarget_list\u001b[0m\u001b[1;33m,\u001b[0m\u001b[1;33m\u001b[0m\u001b[0m\n\u001b[1;32m-> 1350\u001b[1;33m         run_metadata)\n\u001b[0m\u001b[0;32m   1351\u001b[0m \u001b[1;33m\u001b[0m\u001b[0m\n",
      "\u001b[1;31mFailedPreconditionError\u001b[0m: Attempting to use uninitialized value cudnn_gru_9/opaque_kernel\n\t [[Node: cudnn_gru_9/opaque_kernel/read = Identity[T=DT_FLOAT, _device=\"/job:localhost/replica:0/task:0/device:GPU:0\"](cudnn_gru_9/opaque_kernel)]]",
      "\nDuring handling of the above exception, another exception occurred:\n",
      "\u001b[1;31mFailedPreconditionError\u001b[0m                   Traceback (most recent call last)",
      "\u001b[1;32m<ipython-input-64-6e8c3c8ac102>\u001b[0m in \u001b[0;36m<module>\u001b[1;34m\u001b[0m\n\u001b[0;32m      8\u001b[0m \u001b[1;33m\u001b[0m\u001b[0m\n\u001b[0;32m      9\u001b[0m \u001b[0msess\u001b[0m \u001b[1;33m=\u001b[0m \u001b[0mtf\u001b[0m\u001b[1;33m.\u001b[0m\u001b[0mSession\u001b[0m\u001b[1;33m(\u001b[0m\u001b[1;33m)\u001b[0m\u001b[1;33m\u001b[0m\u001b[0m\n\u001b[1;32m---> 10\u001b[1;33m \u001b[0msess\u001b[0m\u001b[1;33m.\u001b[0m\u001b[0mrun\u001b[0m\u001b[1;33m(\u001b[0m\u001b[0mrnn_output\u001b[0m\u001b[1;33m,\u001b[0m\u001b[0mfeed_dict\u001b[0m\u001b[1;33m=\u001b[0m\u001b[1;33m{\u001b[0m\u001b[0mx\u001b[0m\u001b[1;33m:\u001b[0m\u001b[0mnp\u001b[0m\u001b[1;33m.\u001b[0m\u001b[0mrandom\u001b[0m\u001b[1;33m.\u001b[0m\u001b[0mrandom\u001b[0m\u001b[1;33m(\u001b[0m\u001b[0msize\u001b[0m \u001b[1;33m=\u001b[0m \u001b[1;33m(\u001b[0m\u001b[1;36m10\u001b[0m\u001b[1;33m,\u001b[0m\u001b[1;36m5\u001b[0m\u001b[1;33m,\u001b[0m\u001b[1;36m100\u001b[0m\u001b[1;33m)\u001b[0m\u001b[1;33m)\u001b[0m\u001b[1;33m}\u001b[0m\u001b[1;33m)\u001b[0m\u001b[1;33m\u001b[0m\u001b[0m\n\u001b[0m",
      "\u001b[1;32mc:\\users\\princ3\\anaconda3\\envs\\tfconda\\lib\\site-packages\\tensorflow\\python\\client\\session.py\u001b[0m in \u001b[0;36mrun\u001b[1;34m(self, fetches, feed_dict, options, run_metadata)\u001b[0m\n\u001b[0;32m    875\u001b[0m     \u001b[1;32mtry\u001b[0m\u001b[1;33m:\u001b[0m\u001b[1;33m\u001b[0m\u001b[0m\n\u001b[0;32m    876\u001b[0m       result = self._run(None, fetches, feed_dict, options_ptr,\n\u001b[1;32m--> 877\u001b[1;33m                          run_metadata_ptr)\n\u001b[0m\u001b[0;32m    878\u001b[0m       \u001b[1;32mif\u001b[0m \u001b[0mrun_metadata\u001b[0m\u001b[1;33m:\u001b[0m\u001b[1;33m\u001b[0m\u001b[0m\n\u001b[0;32m    879\u001b[0m         \u001b[0mproto_data\u001b[0m \u001b[1;33m=\u001b[0m \u001b[0mtf_session\u001b[0m\u001b[1;33m.\u001b[0m\u001b[0mTF_GetBuffer\u001b[0m\u001b[1;33m(\u001b[0m\u001b[0mrun_metadata_ptr\u001b[0m\u001b[1;33m)\u001b[0m\u001b[1;33m\u001b[0m\u001b[0m\n",
      "\u001b[1;32mc:\\users\\princ3\\anaconda3\\envs\\tfconda\\lib\\site-packages\\tensorflow\\python\\client\\session.py\u001b[0m in \u001b[0;36m_run\u001b[1;34m(self, handle, fetches, feed_dict, options, run_metadata)\u001b[0m\n\u001b[0;32m   1098\u001b[0m     \u001b[1;32mif\u001b[0m \u001b[0mfinal_fetches\u001b[0m \u001b[1;32mor\u001b[0m \u001b[0mfinal_targets\u001b[0m \u001b[1;32mor\u001b[0m \u001b[1;33m(\u001b[0m\u001b[0mhandle\u001b[0m \u001b[1;32mand\u001b[0m \u001b[0mfeed_dict_tensor\u001b[0m\u001b[1;33m)\u001b[0m\u001b[1;33m:\u001b[0m\u001b[1;33m\u001b[0m\u001b[0m\n\u001b[0;32m   1099\u001b[0m       results = self._do_run(handle, final_targets, final_fetches,\n\u001b[1;32m-> 1100\u001b[1;33m                              feed_dict_tensor, options, run_metadata)\n\u001b[0m\u001b[0;32m   1101\u001b[0m     \u001b[1;32melse\u001b[0m\u001b[1;33m:\u001b[0m\u001b[1;33m\u001b[0m\u001b[0m\n\u001b[0;32m   1102\u001b[0m       \u001b[0mresults\u001b[0m \u001b[1;33m=\u001b[0m \u001b[1;33m[\u001b[0m\u001b[1;33m]\u001b[0m\u001b[1;33m\u001b[0m\u001b[0m\n",
      "\u001b[1;32mc:\\users\\princ3\\anaconda3\\envs\\tfconda\\lib\\site-packages\\tensorflow\\python\\client\\session.py\u001b[0m in \u001b[0;36m_do_run\u001b[1;34m(self, handle, target_list, fetch_list, feed_dict, options, run_metadata)\u001b[0m\n\u001b[0;32m   1270\u001b[0m     \u001b[1;32mif\u001b[0m \u001b[0mhandle\u001b[0m \u001b[1;32mis\u001b[0m \u001b[1;32mNone\u001b[0m\u001b[1;33m:\u001b[0m\u001b[1;33m\u001b[0m\u001b[0m\n\u001b[0;32m   1271\u001b[0m       return self._do_call(_run_fn, feeds, fetches, targets, options,\n\u001b[1;32m-> 1272\u001b[1;33m                            run_metadata)\n\u001b[0m\u001b[0;32m   1273\u001b[0m     \u001b[1;32melse\u001b[0m\u001b[1;33m:\u001b[0m\u001b[1;33m\u001b[0m\u001b[0m\n\u001b[0;32m   1274\u001b[0m       \u001b[1;32mreturn\u001b[0m \u001b[0mself\u001b[0m\u001b[1;33m.\u001b[0m\u001b[0m_do_call\u001b[0m\u001b[1;33m(\u001b[0m\u001b[0m_prun_fn\u001b[0m\u001b[1;33m,\u001b[0m \u001b[0mhandle\u001b[0m\u001b[1;33m,\u001b[0m \u001b[0mfeeds\u001b[0m\u001b[1;33m,\u001b[0m \u001b[0mfetches\u001b[0m\u001b[1;33m)\u001b[0m\u001b[1;33m\u001b[0m\u001b[0m\n",
      "\u001b[1;32mc:\\users\\princ3\\anaconda3\\envs\\tfconda\\lib\\site-packages\\tensorflow\\python\\client\\session.py\u001b[0m in \u001b[0;36m_do_call\u001b[1;34m(self, fn, *args)\u001b[0m\n\u001b[0;32m   1289\u001b[0m         \u001b[1;32mexcept\u001b[0m \u001b[0mKeyError\u001b[0m\u001b[1;33m:\u001b[0m\u001b[1;33m\u001b[0m\u001b[0m\n\u001b[0;32m   1290\u001b[0m           \u001b[1;32mpass\u001b[0m\u001b[1;33m\u001b[0m\u001b[0m\n\u001b[1;32m-> 1291\u001b[1;33m       \u001b[1;32mraise\u001b[0m \u001b[0mtype\u001b[0m\u001b[1;33m(\u001b[0m\u001b[0me\u001b[0m\u001b[1;33m)\u001b[0m\u001b[1;33m(\u001b[0m\u001b[0mnode_def\u001b[0m\u001b[1;33m,\u001b[0m \u001b[0mop\u001b[0m\u001b[1;33m,\u001b[0m \u001b[0mmessage\u001b[0m\u001b[1;33m)\u001b[0m\u001b[1;33m\u001b[0m\u001b[0m\n\u001b[0m\u001b[0;32m   1292\u001b[0m \u001b[1;33m\u001b[0m\u001b[0m\n\u001b[0;32m   1293\u001b[0m   \u001b[1;32mdef\u001b[0m \u001b[0m_extend_graph\u001b[0m\u001b[1;33m(\u001b[0m\u001b[0mself\u001b[0m\u001b[1;33m)\u001b[0m\u001b[1;33m:\u001b[0m\u001b[1;33m\u001b[0m\u001b[0m\n",
      "\u001b[1;31mFailedPreconditionError\u001b[0m: Attempting to use uninitialized value cudnn_gru_9/opaque_kernel\n\t [[Node: cudnn_gru_9/opaque_kernel/read = Identity[T=DT_FLOAT, _device=\"/job:localhost/replica:0/task:0/device:GPU:0\"](cudnn_gru_9/opaque_kernel)]]\n\nCaused by op 'cudnn_gru_9/opaque_kernel/read', defined at:\n  File \"c:\\users\\princ3\\anaconda3\\envs\\tfconda\\lib\\runpy.py\", line 184, in _run_module_as_main\n    \"__main__\", mod_spec)\n  File \"c:\\users\\princ3\\anaconda3\\envs\\tfconda\\lib\\runpy.py\", line 85, in _run_code\n    exec(code, run_globals)\n  File \"c:\\users\\princ3\\anaconda3\\envs\\tfconda\\lib\\site-packages\\ipykernel_launcher.py\", line 16, in <module>\n    app.launch_new_instance()\n  File \"c:\\users\\princ3\\anaconda3\\envs\\tfconda\\lib\\site-packages\\traitlets\\config\\application.py\", line 658, in launch_instance\n    app.start()\n  File \"c:\\users\\princ3\\anaconda3\\envs\\tfconda\\lib\\site-packages\\ipykernel\\kernelapp.py\", line 505, in start\n    self.io_loop.start()\n  File \"c:\\users\\princ3\\anaconda3\\envs\\tfconda\\lib\\site-packages\\tornado\\platform\\asyncio.py\", line 132, in start\n    self.asyncio_loop.run_forever()\n  File \"c:\\users\\princ3\\anaconda3\\envs\\tfconda\\lib\\asyncio\\base_events.py\", line 345, in run_forever\n    self._run_once()\n  File \"c:\\users\\princ3\\anaconda3\\envs\\tfconda\\lib\\asyncio\\base_events.py\", line 1312, in _run_once\n    handle._run()\n  File \"c:\\users\\princ3\\anaconda3\\envs\\tfconda\\lib\\asyncio\\events.py\", line 125, in _run\n    self._callback(*self._args)\n  File \"c:\\users\\princ3\\anaconda3\\envs\\tfconda\\lib\\site-packages\\tornado\\ioloop.py\", line 758, in _run_callback\n    ret = callback()\n  File \"c:\\users\\princ3\\anaconda3\\envs\\tfconda\\lib\\site-packages\\tornado\\stack_context.py\", line 300, in null_wrapper\n    return fn(*args, **kwargs)\n  File \"c:\\users\\princ3\\anaconda3\\envs\\tfconda\\lib\\site-packages\\tornado\\gen.py\", line 1233, in inner\n    self.run()\n  File \"c:\\users\\princ3\\anaconda3\\envs\\tfconda\\lib\\site-packages\\tornado\\gen.py\", line 1147, in run\n    yielded = self.gen.send(value)\n  File \"c:\\users\\princ3\\anaconda3\\envs\\tfconda\\lib\\site-packages\\ipykernel\\kernelbase.py\", line 357, in process_one\n    yield gen.maybe_future(dispatch(*args))\n  File \"c:\\users\\princ3\\anaconda3\\envs\\tfconda\\lib\\site-packages\\tornado\\gen.py\", line 326, in wrapper\n    yielded = next(result)\n  File \"c:\\users\\princ3\\anaconda3\\envs\\tfconda\\lib\\site-packages\\ipykernel\\kernelbase.py\", line 267, in dispatch_shell\n    yield gen.maybe_future(handler(stream, idents, msg))\n  File \"c:\\users\\princ3\\anaconda3\\envs\\tfconda\\lib\\site-packages\\tornado\\gen.py\", line 326, in wrapper\n    yielded = next(result)\n  File \"c:\\users\\princ3\\anaconda3\\envs\\tfconda\\lib\\site-packages\\ipykernel\\kernelbase.py\", line 534, in execute_request\n    user_expressions, allow_stdin,\n  File \"c:\\users\\princ3\\anaconda3\\envs\\tfconda\\lib\\site-packages\\tornado\\gen.py\", line 326, in wrapper\n    yielded = next(result)\n  File \"c:\\users\\princ3\\anaconda3\\envs\\tfconda\\lib\\site-packages\\ipykernel\\ipkernel.py\", line 294, in do_execute\n    res = shell.run_cell(code, store_history=store_history, silent=silent)\n  File \"c:\\users\\princ3\\anaconda3\\envs\\tfconda\\lib\\site-packages\\ipykernel\\zmqshell.py\", line 536, in run_cell\n    return super(ZMQInteractiveShell, self).run_cell(*args, **kwargs)\n  File \"c:\\users\\princ3\\anaconda3\\envs\\tfconda\\lib\\site-packages\\IPython\\core\\interactiveshell.py\", line 2819, in run_cell\n    raw_cell, store_history, silent, shell_futures)\n  File \"c:\\users\\princ3\\anaconda3\\envs\\tfconda\\lib\\site-packages\\IPython\\core\\interactiveshell.py\", line 2845, in _run_cell\n    return runner(coro)\n  File \"c:\\users\\princ3\\anaconda3\\envs\\tfconda\\lib\\site-packages\\IPython\\core\\async_helpers.py\", line 67, in _pseudo_sync_runner\n    coro.send(None)\n  File \"c:\\users\\princ3\\anaconda3\\envs\\tfconda\\lib\\site-packages\\IPython\\core\\interactiveshell.py\", line 3020, in run_cell_async\n    interactivity=interactivity, compiler=compiler, result=result)\n  File \"c:\\users\\princ3\\anaconda3\\envs\\tfconda\\lib\\site-packages\\IPython\\core\\interactiveshell.py\", line 3185, in run_ast_nodes\n    if (yield from self.run_code(code, result)):\n  File \"c:\\users\\princ3\\anaconda3\\envs\\tfconda\\lib\\site-packages\\IPython\\core\\interactiveshell.py\", line 3267, in run_code\n    exec(code_obj, self.user_global_ns, self.user_ns)\n  File \"<ipython-input-64-6e8c3c8ac102>\", line 5, in <module>\n    rnn_output = rnn(x)\n  File \"c:\\users\\princ3\\anaconda3\\envs\\tfconda\\lib\\site-packages\\tensorflow\\python\\layers\\base.py\", line 362, in __call__\n    outputs = super(Layer, self).__call__(inputs, *args, **kwargs)\n  File \"c:\\users\\princ3\\anaconda3\\envs\\tfconda\\lib\\site-packages\\tensorflow\\python\\keras\\engine\\base_layer.py\", line 728, in __call__\n    self.build(input_shapes)\n  File \"c:\\users\\princ3\\anaconda3\\envs\\tfconda\\lib\\site-packages\\tensorflow\\contrib\\cudnn_rnn\\python\\layers\\cudnn_rnn.py\", line 362, in build\n    initializer=opaque_params_t, validate_shape=False)\n  File \"c:\\users\\princ3\\anaconda3\\envs\\tfconda\\lib\\site-packages\\tensorflow\\python\\ops\\variable_scope.py\", line 1467, in get_variable\n    aggregation=aggregation)\n  File \"c:\\users\\princ3\\anaconda3\\envs\\tfconda\\lib\\site-packages\\tensorflow\\python\\ops\\variable_scope.py\", line 1217, in get_variable\n    aggregation=aggregation)\n  File \"c:\\users\\princ3\\anaconda3\\envs\\tfconda\\lib\\site-packages\\tensorflow\\python\\ops\\variable_scope.py\", line 510, in get_variable\n    return custom_getter(**custom_getter_kwargs)\n  File \"c:\\users\\princ3\\anaconda3\\envs\\tfconda\\lib\\site-packages\\tensorflow\\contrib\\cudnn_rnn\\python\\layers\\cudnn_rnn.py\", line 294, in _update_trainable_weights\n    variable = getter(*args, **kwargs)\n  File \"c:\\users\\princ3\\anaconda3\\envs\\tfconda\\lib\\site-packages\\tensorflow\\python\\ops\\variable_scope.py\", line 481, in _true_getter\n    aggregation=aggregation)\n  File \"c:\\users\\princ3\\anaconda3\\envs\\tfconda\\lib\\site-packages\\tensorflow\\python\\ops\\variable_scope.py\", line 903, in _get_single_variable\n    aggregation=aggregation)\n  File \"c:\\users\\princ3\\anaconda3\\envs\\tfconda\\lib\\site-packages\\tensorflow\\python\\ops\\variable_scope.py\", line 2443, in variable\n    aggregation=aggregation)\n  File \"c:\\users\\princ3\\anaconda3\\envs\\tfconda\\lib\\site-packages\\tensorflow\\python\\ops\\variable_scope.py\", line 2425, in <lambda>\n    previous_getter = lambda **kwargs: default_variable_creator(None, **kwargs)\n  File \"c:\\users\\princ3\\anaconda3\\envs\\tfconda\\lib\\site-packages\\tensorflow\\python\\ops\\variable_scope.py\", line 2406, in default_variable_creator\n    constraint=constraint)\n  File \"c:\\users\\princ3\\anaconda3\\envs\\tfconda\\lib\\site-packages\\tensorflow\\python\\ops\\variables.py\", line 259, in __init__\n    constraint=constraint)\n  File \"c:\\users\\princ3\\anaconda3\\envs\\tfconda\\lib\\site-packages\\tensorflow\\python\\ops\\variables.py\", line 422, in _init_from_args\n    self._snapshot = array_ops.identity(self._variable, name=\"read\")\n  File \"c:\\users\\princ3\\anaconda3\\envs\\tfconda\\lib\\site-packages\\tensorflow\\python\\ops\\array_ops.py\", line 80, in identity\n    return gen_array_ops.identity(input, name=name)\n  File \"c:\\users\\princ3\\anaconda3\\envs\\tfconda\\lib\\site-packages\\tensorflow\\python\\ops\\gen_array_ops.py\", line 3264, in identity\n    \"Identity\", input=input, name=name)\n  File \"c:\\users\\princ3\\anaconda3\\envs\\tfconda\\lib\\site-packages\\tensorflow\\python\\framework\\op_def_library.py\", line 787, in _apply_op_helper\n    op_def=op_def)\n  File \"c:\\users\\princ3\\anaconda3\\envs\\tfconda\\lib\\site-packages\\tensorflow\\python\\util\\deprecation.py\", line 454, in new_func\n    return func(*args, **kwargs)\n  File \"c:\\users\\princ3\\anaconda3\\envs\\tfconda\\lib\\site-packages\\tensorflow\\python\\framework\\ops.py\", line 3155, in create_op\n    op_def=op_def)\n  File \"c:\\users\\princ3\\anaconda3\\envs\\tfconda\\lib\\site-packages\\tensorflow\\python\\framework\\ops.py\", line 1717, in __init__\n    self._traceback = tf_stack.extract_stack()\n\nFailedPreconditionError (see above for traceback): Attempting to use uninitialized value cudnn_gru_9/opaque_kernel\n\t [[Node: cudnn_gru_9/opaque_kernel/read = Identity[T=DT_FLOAT, _device=\"/job:localhost/replica:0/task:0/device:GPU:0\"](cudnn_gru_9/opaque_kernel)]]\n"
     ]
    }
   ],
   "source": [
    "rnn = tf.contrib.cudnn_rnn.CudnnGRU(\n",
    "  100, 8, direction='bidirectional')\n",
    "\n",
    "x = tf.placeholder(shape=(10,5,100),dtype=tf.float32)\n",
    "rnn_output = rnn(x)\n",
    "\n",
    "sess = tf.Session()\n",
    "sess.run(rnn_output,feed_dict={x:np.random.random(size = (10,5,100))})"
   ]
  },
  {
   "cell_type": "code",
   "execution_count": null,
   "metadata": {},
   "outputs": [],
   "source": []
  },
  {
   "cell_type": "code",
   "execution_count": null,
   "metadata": {},
   "outputs": [],
   "source": []
  }
 ],
 "metadata": {
  "kernelspec": {
   "display_name": "Python 3",
   "language": "python",
   "name": "python3"
  },
  "language_info": {
   "codemirror_mode": {
    "name": "ipython",
    "version": 3
   },
   "file_extension": ".py",
   "mimetype": "text/x-python",
   "name": "python",
   "nbconvert_exporter": "python",
   "pygments_lexer": "ipython3",
   "version": "3.5.2"
  }
 },
 "nbformat": 4,
 "nbformat_minor": 2
}
